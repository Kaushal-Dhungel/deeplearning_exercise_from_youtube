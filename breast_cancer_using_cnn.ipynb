{
  "nbformat": 4,
  "nbformat_minor": 0,
  "metadata": {
    "colab": {
      "name": "breast cancer using cnn.ipynb",
      "provenance": [],
      "collapsed_sections": []
    },
    "kernelspec": {
      "name": "python3",
      "display_name": "Python 3"
    },
    "accelerator": "TPU"
  },
  "cells": [
    {
      "cell_type": "code",
      "metadata": {
        "id": "jZvSjdt6k5yu",
        "colab_type": "code",
        "colab": {}
      },
      "source": [
        ""
      ],
      "execution_count": 0,
      "outputs": []
    },
    {
      "cell_type": "markdown",
      "metadata": {
        "id": "MTsn_YPslGBF",
        "colab_type": "text"
      },
      "source": [
        "## breast cancer using CNN"
      ]
    },
    {
      "cell_type": "code",
      "metadata": {
        "id": "pVIjCYO_lLK7",
        "colab_type": "code",
        "outputId": "1f674e5b-0928-41c9-97fa-8e5e418ac745",
        "colab": {
          "base_uri": "https://localhost:8080/",
          "height": 1000
        }
      },
      "source": [
        "pip install tensorflow-gpu==2.0.0"
      ],
      "execution_count": 0,
      "outputs": [
        {
          "output_type": "stream",
          "text": [
            "Collecting tensorflow-gpu==2.0.0\n",
            "\u001b[?25l  Downloading https://files.pythonhosted.org/packages/25/44/47f0722aea081697143fbcf5d2aa60d1aee4aaacb5869aee2b568974777b/tensorflow_gpu-2.0.0-cp36-cp36m-manylinux2010_x86_64.whl (380.8MB)\n",
            "\u001b[K     |████████████████████████████████| 380.8MB 40kB/s \n",
            "\u001b[?25hRequirement already satisfied: gast==0.2.2 in /usr/local/lib/python3.6/dist-packages (from tensorflow-gpu==2.0.0) (0.2.2)\n",
            "Requirement already satisfied: google-pasta>=0.1.6 in /usr/local/lib/python3.6/dist-packages (from tensorflow-gpu==2.0.0) (0.1.8)\n",
            "Requirement already satisfied: keras-preprocessing>=1.0.5 in /usr/local/lib/python3.6/dist-packages (from tensorflow-gpu==2.0.0) (1.1.0)\n",
            "Requirement already satisfied: six>=1.10.0 in /usr/local/lib/python3.6/dist-packages (from tensorflow-gpu==2.0.0) (1.12.0)\n",
            "Collecting tensorboard<2.1.0,>=2.0.0\n",
            "\u001b[?25l  Downloading https://files.pythonhosted.org/packages/76/54/99b9d5d52d5cb732f099baaaf7740403e83fe6b0cedde940fabd2b13d75a/tensorboard-2.0.2-py3-none-any.whl (3.8MB)\n",
            "\u001b[K     |████████████████████████████████| 3.8MB 45.2MB/s \n",
            "\u001b[?25hRequirement already satisfied: astor>=0.6.0 in /usr/local/lib/python3.6/dist-packages (from tensorflow-gpu==2.0.0) (0.8.1)\n",
            "Collecting tensorflow-estimator<2.1.0,>=2.0.0\n",
            "\u001b[?25l  Downloading https://files.pythonhosted.org/packages/fc/08/8b927337b7019c374719145d1dceba21a8bb909b93b1ad6f8fb7d22c1ca1/tensorflow_estimator-2.0.1-py2.py3-none-any.whl (449kB)\n",
            "\u001b[K     |████████████████████████████████| 450kB 56.5MB/s \n",
            "\u001b[?25hRequirement already satisfied: keras-applications>=1.0.8 in /usr/local/lib/python3.6/dist-packages (from tensorflow-gpu==2.0.0) (1.0.8)\n",
            "Requirement already satisfied: absl-py>=0.7.0 in /usr/local/lib/python3.6/dist-packages (from tensorflow-gpu==2.0.0) (0.9.0)\n",
            "Requirement already satisfied: wheel>=0.26 in /usr/local/lib/python3.6/dist-packages (from tensorflow-gpu==2.0.0) (0.33.6)\n",
            "Requirement already satisfied: opt-einsum>=2.3.2 in /usr/local/lib/python3.6/dist-packages (from tensorflow-gpu==2.0.0) (3.1.0)\n",
            "Requirement already satisfied: numpy<2.0,>=1.16.0 in /usr/local/lib/python3.6/dist-packages (from tensorflow-gpu==2.0.0) (1.17.5)\n",
            "Requirement already satisfied: termcolor>=1.1.0 in /usr/local/lib/python3.6/dist-packages (from tensorflow-gpu==2.0.0) (1.1.0)\n",
            "Requirement already satisfied: grpcio>=1.8.6 in /usr/local/lib/python3.6/dist-packages (from tensorflow-gpu==2.0.0) (1.15.0)\n",
            "Requirement already satisfied: wrapt>=1.11.1 in /usr/local/lib/python3.6/dist-packages (from tensorflow-gpu==2.0.0) (1.11.2)\n",
            "Requirement already satisfied: protobuf>=3.6.1 in /usr/local/lib/python3.6/dist-packages (from tensorflow-gpu==2.0.0) (3.10.0)\n",
            "Requirement already satisfied: markdown>=2.6.8 in /usr/local/lib/python3.6/dist-packages (from tensorboard<2.1.0,>=2.0.0->tensorflow-gpu==2.0.0) (3.1.1)\n",
            "Requirement already satisfied: setuptools>=41.0.0 in /usr/local/lib/python3.6/dist-packages (from tensorboard<2.1.0,>=2.0.0->tensorflow-gpu==2.0.0) (42.0.2)\n",
            "Requirement already satisfied: requests<3,>=2.21.0 in /usr/local/lib/python3.6/dist-packages (from tensorboard<2.1.0,>=2.0.0->tensorflow-gpu==2.0.0) (2.21.0)\n",
            "Requirement already satisfied: google-auth-oauthlib<0.5,>=0.4.1 in /usr/local/lib/python3.6/dist-packages (from tensorboard<2.1.0,>=2.0.0->tensorflow-gpu==2.0.0) (0.4.1)\n",
            "Collecting google-auth<2,>=1.6.3\n",
            "\u001b[?25l  Downloading https://files.pythonhosted.org/packages/36/f8/84b5771faec3eba9fe0c91c8c5896364a8ba08852c0dea5ad2025026dd95/google_auth-1.10.0-py2.py3-none-any.whl (76kB)\n",
            "\u001b[K     |████████████████████████████████| 81kB 11.9MB/s \n",
            "\u001b[?25hRequirement already satisfied: werkzeug>=0.11.15 in /usr/local/lib/python3.6/dist-packages (from tensorboard<2.1.0,>=2.0.0->tensorflow-gpu==2.0.0) (0.16.0)\n",
            "Requirement already satisfied: h5py in /usr/local/lib/python3.6/dist-packages (from keras-applications>=1.0.8->tensorflow-gpu==2.0.0) (2.8.0)\n",
            "Requirement already satisfied: chardet<3.1.0,>=3.0.2 in /usr/local/lib/python3.6/dist-packages (from requests<3,>=2.21.0->tensorboard<2.1.0,>=2.0.0->tensorflow-gpu==2.0.0) (3.0.4)\n",
            "Requirement already satisfied: certifi>=2017.4.17 in /usr/local/lib/python3.6/dist-packages (from requests<3,>=2.21.0->tensorboard<2.1.0,>=2.0.0->tensorflow-gpu==2.0.0) (2019.11.28)\n",
            "Requirement already satisfied: idna<2.9,>=2.5 in /usr/local/lib/python3.6/dist-packages (from requests<3,>=2.21.0->tensorboard<2.1.0,>=2.0.0->tensorflow-gpu==2.0.0) (2.8)\n",
            "Requirement already satisfied: urllib3<1.25,>=1.21.1 in /usr/local/lib/python3.6/dist-packages (from requests<3,>=2.21.0->tensorboard<2.1.0,>=2.0.0->tensorflow-gpu==2.0.0) (1.24.3)\n",
            "Requirement already satisfied: requests-oauthlib>=0.7.0 in /usr/local/lib/python3.6/dist-packages (from google-auth-oauthlib<0.5,>=0.4.1->tensorboard<2.1.0,>=2.0.0->tensorflow-gpu==2.0.0) (1.3.0)\n",
            "Requirement already satisfied: pyasn1-modules>=0.2.1 in /usr/local/lib/python3.6/dist-packages (from google-auth<2,>=1.6.3->tensorboard<2.1.0,>=2.0.0->tensorflow-gpu==2.0.0) (0.2.7)\n",
            "Requirement already satisfied: rsa<4.1,>=3.1.4 in /usr/local/lib/python3.6/dist-packages (from google-auth<2,>=1.6.3->tensorboard<2.1.0,>=2.0.0->tensorflow-gpu==2.0.0) (4.0)\n",
            "Requirement already satisfied: cachetools<5.0,>=2.0.0 in /usr/local/lib/python3.6/dist-packages (from google-auth<2,>=1.6.3->tensorboard<2.1.0,>=2.0.0->tensorflow-gpu==2.0.0) (4.0.0)\n",
            "Requirement already satisfied: oauthlib>=3.0.0 in /usr/local/lib/python3.6/dist-packages (from requests-oauthlib>=0.7.0->google-auth-oauthlib<0.5,>=0.4.1->tensorboard<2.1.0,>=2.0.0->tensorflow-gpu==2.0.0) (3.1.0)\n",
            "Requirement already satisfied: pyasn1<0.5.0,>=0.4.6 in /usr/local/lib/python3.6/dist-packages (from pyasn1-modules>=0.2.1->google-auth<2,>=1.6.3->tensorboard<2.1.0,>=2.0.0->tensorflow-gpu==2.0.0) (0.4.8)\n",
            "\u001b[31mERROR: tensorflow 1.15.0 has requirement tensorboard<1.16.0,>=1.15.0, but you'll have tensorboard 2.0.2 which is incompatible.\u001b[0m\n",
            "\u001b[31mERROR: tensorflow 1.15.0 has requirement tensorflow-estimator==1.15.1, but you'll have tensorflow-estimator 2.0.1 which is incompatible.\u001b[0m\n",
            "\u001b[31mERROR: tensorboard 2.0.2 has requirement grpcio>=1.24.3, but you'll have grpcio 1.15.0 which is incompatible.\u001b[0m\n",
            "\u001b[31mERROR: google-colab 1.0.0 has requirement google-auth~=1.4.0, but you'll have google-auth 1.10.0 which is incompatible.\u001b[0m\n",
            "Installing collected packages: google-auth, tensorboard, tensorflow-estimator, tensorflow-gpu\n",
            "  Found existing installation: google-auth 1.4.2\n",
            "    Uninstalling google-auth-1.4.2:\n",
            "      Successfully uninstalled google-auth-1.4.2\n",
            "  Found existing installation: tensorboard 1.15.0\n",
            "    Uninstalling tensorboard-1.15.0:\n",
            "      Successfully uninstalled tensorboard-1.15.0\n",
            "  Found existing installation: tensorflow-estimator 1.15.1\n",
            "    Uninstalling tensorflow-estimator-1.15.1:\n",
            "      Successfully uninstalled tensorflow-estimator-1.15.1\n",
            "Successfully installed google-auth-1.10.0 tensorboard-2.0.2 tensorflow-estimator-2.0.1 tensorflow-gpu-2.0.0\n"
          ],
          "name": "stdout"
        },
        {
          "output_type": "display_data",
          "data": {
            "application/vnd.colab-display-data+json": {
              "pip_warning": {
                "packages": [
                  "google"
                ]
              }
            }
          },
          "metadata": {
            "tags": []
          }
        }
      ]
    },
    {
      "cell_type": "code",
      "metadata": {
        "id": "kqfXscEflSmO",
        "colab_type": "code",
        "outputId": "2c5c7c50-b14f-464e-d870-afaf99215811",
        "colab": {
          "base_uri": "https://localhost:8080/",
          "height": 34
        }
      },
      "source": [
        "import tensorflow as tf\n",
        "from tensorflow import keras\n",
        "from tensorflow.keras import Sequential\n",
        "from tensorflow.keras.layers import Flatten, Dense, Conv1D, MaxPool1D, Dropout, BatchNormalization\n",
        "from tensorflow.keras.optimizers import Adam\n",
        "print(tf.__version__) "
      ],
      "execution_count": 0,
      "outputs": [
        {
          "output_type": "stream",
          "text": [
            "1.15.0\n"
          ],
          "name": "stdout"
        }
      ]
    },
    {
      "cell_type": "code",
      "metadata": {
        "id": "1Lvk4HqCmEUn",
        "colab_type": "code",
        "colab": {}
      },
      "source": [
        "import numpy as np\n",
        "import pandas as pd\n",
        "import matplotlib.pyplot as plt\n",
        "from sklearn import datasets, metrics\n",
        "from sklearn.model_selection import train_test_split\n",
        "from sklearn.preprocessing import StandardScaler"
      ],
      "execution_count": 0,
      "outputs": []
    },
    {
      "cell_type": "code",
      "metadata": {
        "id": "dhHGNRASmq3t",
        "colab_type": "code",
        "outputId": "736216b5-8421-46a4-bfbe-10d8a7b16add",
        "colab": {
          "base_uri": "https://localhost:8080/",
          "height": 1000
        }
      },
      "source": [
        "cancer = datasets.load_breast_cancer()\n",
        "print(cancer.DESCR)"
      ],
      "execution_count": 0,
      "outputs": [
        {
          "output_type": "stream",
          "text": [
            ".. _breast_cancer_dataset:\n",
            "\n",
            "Breast cancer wisconsin (diagnostic) dataset\n",
            "--------------------------------------------\n",
            "\n",
            "**Data Set Characteristics:**\n",
            "\n",
            "    :Number of Instances: 569\n",
            "\n",
            "    :Number of Attributes: 30 numeric, predictive attributes and the class\n",
            "\n",
            "    :Attribute Information:\n",
            "        - radius (mean of distances from center to points on the perimeter)\n",
            "        - texture (standard deviation of gray-scale values)\n",
            "        - perimeter\n",
            "        - area\n",
            "        - smoothness (local variation in radius lengths)\n",
            "        - compactness (perimeter^2 / area - 1.0)\n",
            "        - concavity (severity of concave portions of the contour)\n",
            "        - concave points (number of concave portions of the contour)\n",
            "        - symmetry \n",
            "        - fractal dimension (\"coastline approximation\" - 1)\n",
            "\n",
            "        The mean, standard error, and \"worst\" or largest (mean of the three\n",
            "        largest values) of these features were computed for each image,\n",
            "        resulting in 30 features.  For instance, field 3 is Mean Radius, field\n",
            "        13 is Radius SE, field 23 is Worst Radius.\n",
            "\n",
            "        - class:\n",
            "                - WDBC-Malignant\n",
            "                - WDBC-Benign\n",
            "\n",
            "    :Summary Statistics:\n",
            "\n",
            "    ===================================== ====== ======\n",
            "                                           Min    Max\n",
            "    ===================================== ====== ======\n",
            "    radius (mean):                        6.981  28.11\n",
            "    texture (mean):                       9.71   39.28\n",
            "    perimeter (mean):                     43.79  188.5\n",
            "    area (mean):                          143.5  2501.0\n",
            "    smoothness (mean):                    0.053  0.163\n",
            "    compactness (mean):                   0.019  0.345\n",
            "    concavity (mean):                     0.0    0.427\n",
            "    concave points (mean):                0.0    0.201\n",
            "    symmetry (mean):                      0.106  0.304\n",
            "    fractal dimension (mean):             0.05   0.097\n",
            "    radius (standard error):              0.112  2.873\n",
            "    texture (standard error):             0.36   4.885\n",
            "    perimeter (standard error):           0.757  21.98\n",
            "    area (standard error):                6.802  542.2\n",
            "    smoothness (standard error):          0.002  0.031\n",
            "    compactness (standard error):         0.002  0.135\n",
            "    concavity (standard error):           0.0    0.396\n",
            "    concave points (standard error):      0.0    0.053\n",
            "    symmetry (standard error):            0.008  0.079\n",
            "    fractal dimension (standard error):   0.001  0.03\n",
            "    radius (worst):                       7.93   36.04\n",
            "    texture (worst):                      12.02  49.54\n",
            "    perimeter (worst):                    50.41  251.2\n",
            "    area (worst):                         185.2  4254.0\n",
            "    smoothness (worst):                   0.071  0.223\n",
            "    compactness (worst):                  0.027  1.058\n",
            "    concavity (worst):                    0.0    1.252\n",
            "    concave points (worst):               0.0    0.291\n",
            "    symmetry (worst):                     0.156  0.664\n",
            "    fractal dimension (worst):            0.055  0.208\n",
            "    ===================================== ====== ======\n",
            "\n",
            "    :Missing Attribute Values: None\n",
            "\n",
            "    :Class Distribution: 212 - Malignant, 357 - Benign\n",
            "\n",
            "    :Creator:  Dr. William H. Wolberg, W. Nick Street, Olvi L. Mangasarian\n",
            "\n",
            "    :Donor: Nick Street\n",
            "\n",
            "    :Date: November, 1995\n",
            "\n",
            "This is a copy of UCI ML Breast Cancer Wisconsin (Diagnostic) datasets.\n",
            "https://goo.gl/U2Uwz2\n",
            "\n",
            "Features are computed from a digitized image of a fine needle\n",
            "aspirate (FNA) of a breast mass.  They describe\n",
            "characteristics of the cell nuclei present in the image.\n",
            "\n",
            "Separating plane described above was obtained using\n",
            "Multisurface Method-Tree (MSM-T) [K. P. Bennett, \"Decision Tree\n",
            "Construction Via Linear Programming.\" Proceedings of the 4th\n",
            "Midwest Artificial Intelligence and Cognitive Science Society,\n",
            "pp. 97-101, 1992], a classification method which uses linear\n",
            "programming to construct a decision tree.  Relevant features\n",
            "were selected using an exhaustive search in the space of 1-4\n",
            "features and 1-3 separating planes.\n",
            "\n",
            "The actual linear program used to obtain the separating plane\n",
            "in the 3-dimensional space is that described in:\n",
            "[K. P. Bennett and O. L. Mangasarian: \"Robust Linear\n",
            "Programming Discrimination of Two Linearly Inseparable Sets\",\n",
            "Optimization Methods and Software 1, 1992, 23-34].\n",
            "\n",
            "This database is also available through the UW CS ftp server:\n",
            "\n",
            "ftp ftp.cs.wisc.edu\n",
            "cd math-prog/cpo-dataset/machine-learn/WDBC/\n",
            "\n",
            ".. topic:: References\n",
            "\n",
            "   - W.N. Street, W.H. Wolberg and O.L. Mangasarian. Nuclear feature extraction \n",
            "     for breast tumor diagnosis. IS&T/SPIE 1993 International Symposium on \n",
            "     Electronic Imaging: Science and Technology, volume 1905, pages 861-870,\n",
            "     San Jose, CA, 1993.\n",
            "   - O.L. Mangasarian, W.N. Street and W.H. Wolberg. Breast cancer diagnosis and \n",
            "     prognosis via linear programming. Operations Research, 43(4), pages 570-577, \n",
            "     July-August 1995.\n",
            "   - W.H. Wolberg, W.N. Street, and O.L. Mangasarian. Machine learning techniques\n",
            "     to diagnose breast cancer from fine-needle aspirates. Cancer Letters 77 (1994) \n",
            "     163-171.\n"
          ],
          "name": "stdout"
        }
      ]
    },
    {
      "cell_type": "code",
      "metadata": {
        "id": "LVxLrHJMnIO8",
        "colab_type": "code",
        "outputId": "e0d27ee8-0f0d-4f6c-851d-29ec6a2d34a7",
        "colab": {
          "base_uri": "https://localhost:8080/",
          "height": 249
        }
      },
      "source": [
        "df = pd.DataFrame(data = cancer.data, columns = cancer.feature_names)\n",
        "df.head()"
      ],
      "execution_count": 0,
      "outputs": [
        {
          "output_type": "execute_result",
          "data": {
            "text/html": [
              "<div>\n",
              "<style scoped>\n",
              "    .dataframe tbody tr th:only-of-type {\n",
              "        vertical-align: middle;\n",
              "    }\n",
              "\n",
              "    .dataframe tbody tr th {\n",
              "        vertical-align: top;\n",
              "    }\n",
              "\n",
              "    .dataframe thead th {\n",
              "        text-align: right;\n",
              "    }\n",
              "</style>\n",
              "<table border=\"1\" class=\"dataframe\">\n",
              "  <thead>\n",
              "    <tr style=\"text-align: right;\">\n",
              "      <th></th>\n",
              "      <th>mean radius</th>\n",
              "      <th>mean texture</th>\n",
              "      <th>mean perimeter</th>\n",
              "      <th>mean area</th>\n",
              "      <th>mean smoothness</th>\n",
              "      <th>mean compactness</th>\n",
              "      <th>mean concavity</th>\n",
              "      <th>mean concave points</th>\n",
              "      <th>mean symmetry</th>\n",
              "      <th>mean fractal dimension</th>\n",
              "      <th>radius error</th>\n",
              "      <th>texture error</th>\n",
              "      <th>perimeter error</th>\n",
              "      <th>area error</th>\n",
              "      <th>smoothness error</th>\n",
              "      <th>compactness error</th>\n",
              "      <th>concavity error</th>\n",
              "      <th>concave points error</th>\n",
              "      <th>symmetry error</th>\n",
              "      <th>fractal dimension error</th>\n",
              "      <th>worst radius</th>\n",
              "      <th>worst texture</th>\n",
              "      <th>worst perimeter</th>\n",
              "      <th>worst area</th>\n",
              "      <th>worst smoothness</th>\n",
              "      <th>worst compactness</th>\n",
              "      <th>worst concavity</th>\n",
              "      <th>worst concave points</th>\n",
              "      <th>worst symmetry</th>\n",
              "      <th>worst fractal dimension</th>\n",
              "    </tr>\n",
              "  </thead>\n",
              "  <tbody>\n",
              "    <tr>\n",
              "      <th>0</th>\n",
              "      <td>17.99</td>\n",
              "      <td>10.38</td>\n",
              "      <td>122.80</td>\n",
              "      <td>1001.0</td>\n",
              "      <td>0.11840</td>\n",
              "      <td>0.27760</td>\n",
              "      <td>0.3001</td>\n",
              "      <td>0.14710</td>\n",
              "      <td>0.2419</td>\n",
              "      <td>0.07871</td>\n",
              "      <td>1.0950</td>\n",
              "      <td>0.9053</td>\n",
              "      <td>8.589</td>\n",
              "      <td>153.40</td>\n",
              "      <td>0.006399</td>\n",
              "      <td>0.04904</td>\n",
              "      <td>0.05373</td>\n",
              "      <td>0.01587</td>\n",
              "      <td>0.03003</td>\n",
              "      <td>0.006193</td>\n",
              "      <td>25.38</td>\n",
              "      <td>17.33</td>\n",
              "      <td>184.60</td>\n",
              "      <td>2019.0</td>\n",
              "      <td>0.1622</td>\n",
              "      <td>0.6656</td>\n",
              "      <td>0.7119</td>\n",
              "      <td>0.2654</td>\n",
              "      <td>0.4601</td>\n",
              "      <td>0.11890</td>\n",
              "    </tr>\n",
              "    <tr>\n",
              "      <th>1</th>\n",
              "      <td>20.57</td>\n",
              "      <td>17.77</td>\n",
              "      <td>132.90</td>\n",
              "      <td>1326.0</td>\n",
              "      <td>0.08474</td>\n",
              "      <td>0.07864</td>\n",
              "      <td>0.0869</td>\n",
              "      <td>0.07017</td>\n",
              "      <td>0.1812</td>\n",
              "      <td>0.05667</td>\n",
              "      <td>0.5435</td>\n",
              "      <td>0.7339</td>\n",
              "      <td>3.398</td>\n",
              "      <td>74.08</td>\n",
              "      <td>0.005225</td>\n",
              "      <td>0.01308</td>\n",
              "      <td>0.01860</td>\n",
              "      <td>0.01340</td>\n",
              "      <td>0.01389</td>\n",
              "      <td>0.003532</td>\n",
              "      <td>24.99</td>\n",
              "      <td>23.41</td>\n",
              "      <td>158.80</td>\n",
              "      <td>1956.0</td>\n",
              "      <td>0.1238</td>\n",
              "      <td>0.1866</td>\n",
              "      <td>0.2416</td>\n",
              "      <td>0.1860</td>\n",
              "      <td>0.2750</td>\n",
              "      <td>0.08902</td>\n",
              "    </tr>\n",
              "    <tr>\n",
              "      <th>2</th>\n",
              "      <td>19.69</td>\n",
              "      <td>21.25</td>\n",
              "      <td>130.00</td>\n",
              "      <td>1203.0</td>\n",
              "      <td>0.10960</td>\n",
              "      <td>0.15990</td>\n",
              "      <td>0.1974</td>\n",
              "      <td>0.12790</td>\n",
              "      <td>0.2069</td>\n",
              "      <td>0.05999</td>\n",
              "      <td>0.7456</td>\n",
              "      <td>0.7869</td>\n",
              "      <td>4.585</td>\n",
              "      <td>94.03</td>\n",
              "      <td>0.006150</td>\n",
              "      <td>0.04006</td>\n",
              "      <td>0.03832</td>\n",
              "      <td>0.02058</td>\n",
              "      <td>0.02250</td>\n",
              "      <td>0.004571</td>\n",
              "      <td>23.57</td>\n",
              "      <td>25.53</td>\n",
              "      <td>152.50</td>\n",
              "      <td>1709.0</td>\n",
              "      <td>0.1444</td>\n",
              "      <td>0.4245</td>\n",
              "      <td>0.4504</td>\n",
              "      <td>0.2430</td>\n",
              "      <td>0.3613</td>\n",
              "      <td>0.08758</td>\n",
              "    </tr>\n",
              "    <tr>\n",
              "      <th>3</th>\n",
              "      <td>11.42</td>\n",
              "      <td>20.38</td>\n",
              "      <td>77.58</td>\n",
              "      <td>386.1</td>\n",
              "      <td>0.14250</td>\n",
              "      <td>0.28390</td>\n",
              "      <td>0.2414</td>\n",
              "      <td>0.10520</td>\n",
              "      <td>0.2597</td>\n",
              "      <td>0.09744</td>\n",
              "      <td>0.4956</td>\n",
              "      <td>1.1560</td>\n",
              "      <td>3.445</td>\n",
              "      <td>27.23</td>\n",
              "      <td>0.009110</td>\n",
              "      <td>0.07458</td>\n",
              "      <td>0.05661</td>\n",
              "      <td>0.01867</td>\n",
              "      <td>0.05963</td>\n",
              "      <td>0.009208</td>\n",
              "      <td>14.91</td>\n",
              "      <td>26.50</td>\n",
              "      <td>98.87</td>\n",
              "      <td>567.7</td>\n",
              "      <td>0.2098</td>\n",
              "      <td>0.8663</td>\n",
              "      <td>0.6869</td>\n",
              "      <td>0.2575</td>\n",
              "      <td>0.6638</td>\n",
              "      <td>0.17300</td>\n",
              "    </tr>\n",
              "    <tr>\n",
              "      <th>4</th>\n",
              "      <td>20.29</td>\n",
              "      <td>14.34</td>\n",
              "      <td>135.10</td>\n",
              "      <td>1297.0</td>\n",
              "      <td>0.10030</td>\n",
              "      <td>0.13280</td>\n",
              "      <td>0.1980</td>\n",
              "      <td>0.10430</td>\n",
              "      <td>0.1809</td>\n",
              "      <td>0.05883</td>\n",
              "      <td>0.7572</td>\n",
              "      <td>0.7813</td>\n",
              "      <td>5.438</td>\n",
              "      <td>94.44</td>\n",
              "      <td>0.011490</td>\n",
              "      <td>0.02461</td>\n",
              "      <td>0.05688</td>\n",
              "      <td>0.01885</td>\n",
              "      <td>0.01756</td>\n",
              "      <td>0.005115</td>\n",
              "      <td>22.54</td>\n",
              "      <td>16.67</td>\n",
              "      <td>152.20</td>\n",
              "      <td>1575.0</td>\n",
              "      <td>0.1374</td>\n",
              "      <td>0.2050</td>\n",
              "      <td>0.4000</td>\n",
              "      <td>0.1625</td>\n",
              "      <td>0.2364</td>\n",
              "      <td>0.07678</td>\n",
              "    </tr>\n",
              "  </tbody>\n",
              "</table>\n",
              "</div>"
            ],
            "text/plain": [
              "   mean radius  mean texture  ...  worst symmetry  worst fractal dimension\n",
              "0        17.99         10.38  ...          0.4601                  0.11890\n",
              "1        20.57         17.77  ...          0.2750                  0.08902\n",
              "2        19.69         21.25  ...          0.3613                  0.08758\n",
              "3        11.42         20.38  ...          0.6638                  0.17300\n",
              "4        20.29         14.34  ...          0.2364                  0.07678\n",
              "\n",
              "[5 rows x 30 columns]"
            ]
          },
          "metadata": {
            "tags": []
          },
          "execution_count": 7
        }
      ]
    },
    {
      "cell_type": "code",
      "metadata": {
        "id": "xGcpm7USnyI6",
        "colab_type": "code",
        "outputId": "a0b93b09-6200-4de2-f686-349404a3d63e",
        "colab": {
          "base_uri": "https://localhost:8080/",
          "height": 34
        }
      },
      "source": [
        "df.shape"
      ],
      "execution_count": 0,
      "outputs": [
        {
          "output_type": "execute_result",
          "data": {
            "text/plain": [
              "(569, 30)"
            ]
          },
          "metadata": {
            "tags": []
          },
          "execution_count": 8
        }
      ]
    },
    {
      "cell_type": "code",
      "metadata": {
        "id": "xRqLRMFUoRjL",
        "colab_type": "code",
        "colab": {}
      },
      "source": [
        "x = cancer.data\n",
        "y = cancer.target"
      ],
      "execution_count": 0,
      "outputs": []
    },
    {
      "cell_type": "code",
      "metadata": {
        "id": "yU_5cgW5ofr0",
        "colab_type": "code",
        "outputId": "f822cde3-9303-43ed-d316-2bd592cde365",
        "colab": {
          "base_uri": "https://localhost:8080/",
          "height": 50
        }
      },
      "source": [
        "print(x.shape)\n",
        "print(y.shape)"
      ],
      "execution_count": 0,
      "outputs": [
        {
          "output_type": "stream",
          "text": [
            "(569, 30)\n",
            "(569,)\n"
          ],
          "name": "stdout"
        }
      ]
    },
    {
      "cell_type": "code",
      "metadata": {
        "id": "LbdPPJNnn_Kw",
        "colab_type": "code",
        "colab": {}
      },
      "source": [
        "x_train,x_test,y_train,y_test = train_test_split(x,y,test_size = 0.2)"
      ],
      "execution_count": 0,
      "outputs": []
    },
    {
      "cell_type": "code",
      "metadata": {
        "id": "XlzY0AwOotQs",
        "colab_type": "code",
        "outputId": "4f47acf9-bb71-4e88-a62b-fd16686767b5",
        "colab": {
          "base_uri": "https://localhost:8080/",
          "height": 34
        }
      },
      "source": [
        "x_train.shape"
      ],
      "execution_count": 0,
      "outputs": [
        {
          "output_type": "execute_result",
          "data": {
            "text/plain": [
              "(455, 30)"
            ]
          },
          "metadata": {
            "tags": []
          },
          "execution_count": 12
        }
      ]
    },
    {
      "cell_type": "code",
      "metadata": {
        "id": "V-_kwSHxpGnl",
        "colab_type": "code",
        "outputId": "86d3e4f0-0b19-415c-a46b-d9108672d950",
        "colab": {
          "base_uri": "https://localhost:8080/",
          "height": 34
        }
      },
      "source": [
        "x_test.shape"
      ],
      "execution_count": 0,
      "outputs": [
        {
          "output_type": "execute_result",
          "data": {
            "text/plain": [
              "(114, 30)"
            ]
          },
          "metadata": {
            "tags": []
          },
          "execution_count": 13
        }
      ]
    },
    {
      "cell_type": "code",
      "metadata": {
        "id": "IGEfZwBtpcig",
        "colab_type": "code",
        "colab": {}
      },
      "source": [
        ""
      ],
      "execution_count": 0,
      "outputs": []
    },
    {
      "cell_type": "markdown",
      "metadata": {
        "id": "vinYYsmjpfeP",
        "colab_type": "text"
      },
      "source": [
        "#### applying standard scaler"
      ]
    },
    {
      "cell_type": "code",
      "metadata": {
        "id": "UV3gn-bDpco-",
        "colab_type": "code",
        "colab": {}
      },
      "source": [
        "scaler = StandardScaler()\n",
        "x_train = scaler.fit_transform(x_train)\n",
        "x_test = scaler.transform(x_test)"
      ],
      "execution_count": 0,
      "outputs": []
    },
    {
      "cell_type": "code",
      "metadata": {
        "id": "J-DZGlwRpcxF",
        "colab_type": "code",
        "outputId": "d47af066-249c-4172-a04e-9a91e0249617",
        "colab": {
          "base_uri": "https://localhost:8080/",
          "height": 34
        }
      },
      "source": [
        "x_train.shape"
      ],
      "execution_count": 0,
      "outputs": [
        {
          "output_type": "execute_result",
          "data": {
            "text/plain": [
              "(455, 30)"
            ]
          },
          "metadata": {
            "tags": []
          },
          "execution_count": 15
        }
      ]
    },
    {
      "cell_type": "code",
      "metadata": {
        "id": "rBHxAmzSqnJk",
        "colab_type": "code",
        "outputId": "e8cf533f-ff2e-415e-a527-72d2c7c5c133",
        "colab": {
          "base_uri": "https://localhost:8080/",
          "height": 34
        }
      },
      "source": [
        "x_test.shape"
      ],
      "execution_count": 0,
      "outputs": [
        {
          "output_type": "execute_result",
          "data": {
            "text/plain": [
              "(114, 30)"
            ]
          },
          "metadata": {
            "tags": []
          },
          "execution_count": 16
        }
      ]
    },
    {
      "cell_type": "code",
      "metadata": {
        "id": "BKRAYuZEovGn",
        "colab_type": "code",
        "colab": {}
      },
      "source": [
        "# converting 2-d data to 3-d data\n",
        "x_train = x_train.reshape(455,30,1)\n",
        "x_test = x_test.reshape(114,30,1)"
      ],
      "execution_count": 0,
      "outputs": []
    },
    {
      "cell_type": "code",
      "metadata": {
        "id": "HVHzlYrdKGrq",
        "colab_type": "code",
        "colab": {}
      },
      "source": [
        "#from tensorflow.keras import Sequential"
      ],
      "execution_count": 0,
      "outputs": []
    },
    {
      "cell_type": "code",
      "metadata": {
        "id": "S5lTE5a5pQeY",
        "colab_type": "code",
        "colab": {}
      },
      "source": [
        "model = Sequential()\n",
        "model.add(Conv1D(filters = 32,kernel_size=2,activation='relu',input_shape = (30,1)))\n",
        "model.add(BatchNormalization())\n",
        "model.add(Dropout(0.2))\n",
        "\n",
        "model.add(Conv1D(filters = 64,kernel_size=2,activation='relu'))\n",
        "model.add(BatchNormalization())\n",
        "model.add(Dropout(0.5))\n",
        "\n",
        "model.add(Flatten())\n",
        "model.add(Dense(64,activation = 'relu'))\n",
        "model.add(Dropout(0.5))\n",
        "\n",
        "model.add(Dense(1,activation = 'sigmoid'))\n",
        "\n"
      ],
      "execution_count": 0,
      "outputs": []
    },
    {
      "cell_type": "code",
      "metadata": {
        "id": "au1Rhc0xJzmx",
        "colab_type": "code",
        "outputId": "7b27212a-2760-4654-dfcd-c6664ed12328",
        "colab": {
          "base_uri": "https://localhost:8080/",
          "height": 487
        }
      },
      "source": [
        "model.summary()"
      ],
      "execution_count": 0,
      "outputs": [
        {
          "output_type": "stream",
          "text": [
            "Model: \"sequential_4\"\n",
            "_________________________________________________________________\n",
            "Layer (type)                 Output Shape              Param #   \n",
            "=================================================================\n",
            "conv1d_5 (Conv1D)            (None, 29, 32)            96        \n",
            "_________________________________________________________________\n",
            "batch_normalization_4 (Batch (None, 29, 32)            128       \n",
            "_________________________________________________________________\n",
            "dropout_6 (Dropout)          (None, 29, 32)            0         \n",
            "_________________________________________________________________\n",
            "conv1d_6 (Conv1D)            (None, 28, 64)            4160      \n",
            "_________________________________________________________________\n",
            "batch_normalization_5 (Batch (None, 28, 64)            256       \n",
            "_________________________________________________________________\n",
            "dropout_7 (Dropout)          (None, 28, 64)            0         \n",
            "_________________________________________________________________\n",
            "flatten_2 (Flatten)          (None, 1792)              0         \n",
            "_________________________________________________________________\n",
            "dense_3 (Dense)              (None, 64)                114752    \n",
            "_________________________________________________________________\n",
            "dropout_8 (Dropout)          (None, 64)                0         \n",
            "_________________________________________________________________\n",
            "dense_4 (Dense)              (None, 1)                 65        \n",
            "=================================================================\n",
            "Total params: 119,457\n",
            "Trainable params: 119,265\n",
            "Non-trainable params: 192\n",
            "_________________________________________________________________\n"
          ],
          "name": "stdout"
        }
      ]
    },
    {
      "cell_type": "code",
      "metadata": {
        "id": "FwutXpxWJ3u-",
        "colab_type": "code",
        "outputId": "eda1615b-19cb-4b84-a073-8b591d3ceb50",
        "colab": {
          "base_uri": "https://localhost:8080/",
          "height": 87
        }
      },
      "source": [
        "model.compile(optimizer=Adam(lr = 0.00005),loss = 'binary_crossentropy',metrics=['accuracy'])"
      ],
      "execution_count": 0,
      "outputs": [
        {
          "output_type": "stream",
          "text": [
            "WARNING:tensorflow:From /usr/local/lib/python3.6/dist-packages/tensorflow_core/python/ops/nn_impl.py:183: where (from tensorflow.python.ops.array_ops) is deprecated and will be removed in a future version.\n",
            "Instructions for updating:\n",
            "Use tf.where in 2.0, which has the same broadcast rule as np.where\n"
          ],
          "name": "stdout"
        }
      ]
    },
    {
      "cell_type": "code",
      "metadata": {
        "id": "vM9dWP8tJ37v",
        "colab_type": "code",
        "outputId": "7dce09ed-f435-4c6f-e125-b58c98bacf76",
        "colab": {
          "base_uri": "https://localhost:8080/",
          "height": 1000
        }
      },
      "source": [
        "history = model.fit(x_train,y_train,epochs=50,validation_data = (x_test,y_test),verbose=1)"
      ],
      "execution_count": 0,
      "outputs": [
        {
          "output_type": "stream",
          "text": [
            "Train on 455 samples, validate on 114 samples\n",
            "Epoch 1/50\n",
            "455/455 [==============================] - 0s 641us/sample - loss: 0.0988 - acc: 0.9604 - val_loss: 0.1554 - val_acc: 0.9737\n",
            "Epoch 2/50\n",
            "455/455 [==============================] - 0s 346us/sample - loss: 0.0966 - acc: 0.9626 - val_loss: 0.1549 - val_acc: 0.9737\n",
            "Epoch 3/50\n",
            "455/455 [==============================] - 0s 340us/sample - loss: 0.0990 - acc: 0.9670 - val_loss: 0.1544 - val_acc: 0.9737\n",
            "Epoch 4/50\n",
            "455/455 [==============================] - 0s 373us/sample - loss: 0.0745 - acc: 0.9604 - val_loss: 0.1549 - val_acc: 0.9737\n",
            "Epoch 5/50\n",
            "455/455 [==============================] - 0s 338us/sample - loss: 0.0909 - acc: 0.9692 - val_loss: 0.1556 - val_acc: 0.9737\n",
            "Epoch 6/50\n",
            "455/455 [==============================] - 0s 356us/sample - loss: 0.0848 - acc: 0.9626 - val_loss: 0.1561 - val_acc: 0.9737\n",
            "Epoch 7/50\n",
            "455/455 [==============================] - 0s 362us/sample - loss: 0.1108 - acc: 0.9516 - val_loss: 0.1563 - val_acc: 0.9737\n",
            "Epoch 8/50\n",
            "455/455 [==============================] - 0s 344us/sample - loss: 0.0671 - acc: 0.9758 - val_loss: 0.1573 - val_acc: 0.9737\n",
            "Epoch 9/50\n",
            "455/455 [==============================] - 0s 342us/sample - loss: 0.0771 - acc: 0.9714 - val_loss: 0.1574 - val_acc: 0.9737\n",
            "Epoch 10/50\n",
            "455/455 [==============================] - 0s 341us/sample - loss: 0.0845 - acc: 0.9626 - val_loss: 0.1574 - val_acc: 0.9737\n",
            "Epoch 11/50\n",
            "455/455 [==============================] - 0s 355us/sample - loss: 0.0531 - acc: 0.9802 - val_loss: 0.1576 - val_acc: 0.9737\n",
            "Epoch 12/50\n",
            "455/455 [==============================] - 0s 341us/sample - loss: 0.0837 - acc: 0.9714 - val_loss: 0.1577 - val_acc: 0.9737\n",
            "Epoch 13/50\n",
            "455/455 [==============================] - 0s 350us/sample - loss: 0.1267 - acc: 0.9538 - val_loss: 0.1583 - val_acc: 0.9737\n",
            "Epoch 14/50\n",
            "455/455 [==============================] - 0s 341us/sample - loss: 0.0674 - acc: 0.9736 - val_loss: 0.1602 - val_acc: 0.9737\n",
            "Epoch 15/50\n",
            "455/455 [==============================] - 0s 353us/sample - loss: 0.0981 - acc: 0.9604 - val_loss: 0.1610 - val_acc: 0.9737\n",
            "Epoch 16/50\n",
            "455/455 [==============================] - 0s 356us/sample - loss: 0.0950 - acc: 0.9648 - val_loss: 0.1613 - val_acc: 0.9737\n",
            "Epoch 17/50\n",
            "455/455 [==============================] - 0s 349us/sample - loss: 0.0876 - acc: 0.9560 - val_loss: 0.1615 - val_acc: 0.9737\n",
            "Epoch 18/50\n",
            "455/455 [==============================] - 0s 350us/sample - loss: 0.1006 - acc: 0.9626 - val_loss: 0.1625 - val_acc: 0.9737\n",
            "Epoch 19/50\n",
            "455/455 [==============================] - 0s 359us/sample - loss: 0.0806 - acc: 0.9648 - val_loss: 0.1626 - val_acc: 0.9737\n",
            "Epoch 20/50\n",
            "455/455 [==============================] - 0s 361us/sample - loss: 0.0998 - acc: 0.9692 - val_loss: 0.1630 - val_acc: 0.9737\n",
            "Epoch 21/50\n",
            "455/455 [==============================] - 0s 387us/sample - loss: 0.0648 - acc: 0.9692 - val_loss: 0.1635 - val_acc: 0.9737\n",
            "Epoch 22/50\n",
            "455/455 [==============================] - 0s 371us/sample - loss: 0.0811 - acc: 0.9692 - val_loss: 0.1639 - val_acc: 0.9737\n",
            "Epoch 23/50\n",
            "455/455 [==============================] - 0s 354us/sample - loss: 0.0704 - acc: 0.9692 - val_loss: 0.1638 - val_acc: 0.9737\n",
            "Epoch 24/50\n",
            "455/455 [==============================] - 0s 337us/sample - loss: 0.0874 - acc: 0.9670 - val_loss: 0.1639 - val_acc: 0.9737\n",
            "Epoch 25/50\n",
            "455/455 [==============================] - 0s 331us/sample - loss: 0.0781 - acc: 0.9802 - val_loss: 0.1644 - val_acc: 0.9737\n",
            "Epoch 26/50\n",
            "455/455 [==============================] - 0s 356us/sample - loss: 0.0763 - acc: 0.9758 - val_loss: 0.1644 - val_acc: 0.9737\n",
            "Epoch 27/50\n",
            "455/455 [==============================] - 0s 349us/sample - loss: 0.0911 - acc: 0.9670 - val_loss: 0.1647 - val_acc: 0.9737\n",
            "Epoch 28/50\n",
            "455/455 [==============================] - 0s 343us/sample - loss: 0.0799 - acc: 0.9736 - val_loss: 0.1629 - val_acc: 0.9737\n",
            "Epoch 29/50\n",
            "455/455 [==============================] - 0s 359us/sample - loss: 0.0841 - acc: 0.9604 - val_loss: 0.1629 - val_acc: 0.9737\n",
            "Epoch 30/50\n",
            "455/455 [==============================] - 0s 335us/sample - loss: 0.1083 - acc: 0.9516 - val_loss: 0.1622 - val_acc: 0.9737\n",
            "Epoch 31/50\n",
            "455/455 [==============================] - 0s 340us/sample - loss: 0.0563 - acc: 0.9714 - val_loss: 0.1635 - val_acc: 0.9737\n",
            "Epoch 32/50\n",
            "455/455 [==============================] - 0s 350us/sample - loss: 0.0802 - acc: 0.9692 - val_loss: 0.1636 - val_acc: 0.9737\n",
            "Epoch 33/50\n",
            "455/455 [==============================] - 0s 363us/sample - loss: 0.0584 - acc: 0.9758 - val_loss: 0.1647 - val_acc: 0.9737\n",
            "Epoch 34/50\n",
            "455/455 [==============================] - 0s 338us/sample - loss: 0.0784 - acc: 0.9648 - val_loss: 0.1649 - val_acc: 0.9737\n",
            "Epoch 35/50\n",
            "455/455 [==============================] - 0s 337us/sample - loss: 0.1003 - acc: 0.9560 - val_loss: 0.1648 - val_acc: 0.9737\n",
            "Epoch 36/50\n",
            "455/455 [==============================] - 0s 365us/sample - loss: 0.0778 - acc: 0.9670 - val_loss: 0.1650 - val_acc: 0.9737\n",
            "Epoch 37/50\n",
            "455/455 [==============================] - 0s 360us/sample - loss: 0.0839 - acc: 0.9758 - val_loss: 0.1654 - val_acc: 0.9737\n",
            "Epoch 38/50\n",
            "455/455 [==============================] - 0s 356us/sample - loss: 0.0832 - acc: 0.9692 - val_loss: 0.1658 - val_acc: 0.9737\n",
            "Epoch 39/50\n",
            "455/455 [==============================] - 0s 346us/sample - loss: 0.0776 - acc: 0.9670 - val_loss: 0.1668 - val_acc: 0.9737\n",
            "Epoch 40/50\n",
            "455/455 [==============================] - 0s 342us/sample - loss: 0.0852 - acc: 0.9736 - val_loss: 0.1671 - val_acc: 0.9737\n",
            "Epoch 41/50\n",
            "455/455 [==============================] - 0s 348us/sample - loss: 0.0644 - acc: 0.9758 - val_loss: 0.1686 - val_acc: 0.9737\n",
            "Epoch 42/50\n",
            "455/455 [==============================] - 0s 362us/sample - loss: 0.0614 - acc: 0.9802 - val_loss: 0.1686 - val_acc: 0.9737\n",
            "Epoch 43/50\n",
            "455/455 [==============================] - 0s 333us/sample - loss: 0.0701 - acc: 0.9670 - val_loss: 0.1697 - val_acc: 0.9737\n",
            "Epoch 44/50\n",
            "455/455 [==============================] - 0s 370us/sample - loss: 0.0590 - acc: 0.9692 - val_loss: 0.1704 - val_acc: 0.9737\n",
            "Epoch 45/50\n",
            "455/455 [==============================] - 0s 342us/sample - loss: 0.0887 - acc: 0.9648 - val_loss: 0.1709 - val_acc: 0.9737\n",
            "Epoch 46/50\n",
            "455/455 [==============================] - 0s 338us/sample - loss: 0.0503 - acc: 0.9780 - val_loss: 0.1706 - val_acc: 0.9737\n",
            "Epoch 47/50\n",
            "455/455 [==============================] - 0s 351us/sample - loss: 0.0934 - acc: 0.9692 - val_loss: 0.1706 - val_acc: 0.9737\n",
            "Epoch 48/50\n",
            "455/455 [==============================] - 0s 349us/sample - loss: 0.0516 - acc: 0.9846 - val_loss: 0.1712 - val_acc: 0.9737\n",
            "Epoch 49/50\n",
            "455/455 [==============================] - 0s 349us/sample - loss: 0.0489 - acc: 0.9824 - val_loss: 0.1716 - val_acc: 0.9737\n",
            "Epoch 50/50\n",
            "455/455 [==============================] - 0s 339us/sample - loss: 0.0596 - acc: 0.9846 - val_loss: 0.1722 - val_acc: 0.9737\n"
          ],
          "name": "stdout"
        }
      ]
    },
    {
      "cell_type": "markdown",
      "metadata": {
        "id": "DzQzjIsDMEG8",
        "colab_type": "text"
      },
      "source": [
        "from above training, using 50 epochs, the training accuracy becomes greater than validation accuracy after 48 epochs. Hence model overfitted after 48 epochs"
      ]
    },
    {
      "cell_type": "code",
      "metadata": {
        "id": "_DbK6D8GMYA3",
        "colab_type": "code",
        "outputId": "81ae3dc5-1925-43f6-ce7e-d5d4a3b4749a",
        "colab": {
          "base_uri": "https://localhost:8080/",
          "height": 1000
        }
      },
      "source": [
        "history.history"
      ],
      "execution_count": 0,
      "outputs": [
        {
          "output_type": "execute_result",
          "data": {
            "text/plain": [
              "{'acc': [0.96043956,\n",
              "  0.96263736,\n",
              "  0.96703297,\n",
              "  0.96043956,\n",
              "  0.9692308,\n",
              "  0.96263736,\n",
              "  0.95164835,\n",
              "  0.9758242,\n",
              "  0.9714286,\n",
              "  0.96263736,\n",
              "  0.9802198,\n",
              "  0.9714286,\n",
              "  0.95384616,\n",
              "  0.9736264,\n",
              "  0.96043956,\n",
              "  0.96483517,\n",
              "  0.95604396,\n",
              "  0.96263736,\n",
              "  0.96483517,\n",
              "  0.9692308,\n",
              "  0.9692308,\n",
              "  0.9692308,\n",
              "  0.9692308,\n",
              "  0.96703297,\n",
              "  0.9802198,\n",
              "  0.9758242,\n",
              "  0.96703297,\n",
              "  0.9736264,\n",
              "  0.96043956,\n",
              "  0.95164835,\n",
              "  0.9714286,\n",
              "  0.9692308,\n",
              "  0.9758242,\n",
              "  0.96483517,\n",
              "  0.95604396,\n",
              "  0.96703297,\n",
              "  0.9758242,\n",
              "  0.9692308,\n",
              "  0.96703297,\n",
              "  0.9736264,\n",
              "  0.9758242,\n",
              "  0.9802198,\n",
              "  0.96703297,\n",
              "  0.9692308,\n",
              "  0.96483517,\n",
              "  0.978022,\n",
              "  0.9692308,\n",
              "  0.9846154,\n",
              "  0.9824176,\n",
              "  0.9846154],\n",
              " 'loss': [0.0987838038130776,\n",
              "  0.09660017312719271,\n",
              "  0.09897645210008045,\n",
              "  0.07451769455980796,\n",
              "  0.09091868530754205,\n",
              "  0.08483407905141076,\n",
              "  0.1107972088162429,\n",
              "  0.06707890620851725,\n",
              "  0.07712199348178539,\n",
              "  0.08446516192385128,\n",
              "  0.05314473791436835,\n",
              "  0.08367534729314374,\n",
              "  0.12672658326861622,\n",
              "  0.06740491804922676,\n",
              "  0.09811663985006756,\n",
              "  0.09498980069880957,\n",
              "  0.08760910319921734,\n",
              "  0.10060783580948528,\n",
              "  0.08055022089655133,\n",
              "  0.0998244597525387,\n",
              "  0.06484092843647186,\n",
              "  0.08110985283913848,\n",
              "  0.07035009351732967,\n",
              "  0.0873689622096308,\n",
              "  0.07814263517118908,\n",
              "  0.07630779320108039,\n",
              "  0.09112990904640365,\n",
              "  0.07988986917566712,\n",
              "  0.08411171144836552,\n",
              "  0.1082970747580895,\n",
              "  0.056312513251144156,\n",
              "  0.08022654868744232,\n",
              "  0.05841978341033989,\n",
              "  0.07838576651209643,\n",
              "  0.1003240107016249,\n",
              "  0.0777867039069431,\n",
              "  0.08393359274429443,\n",
              "  0.08319438085328419,\n",
              "  0.07759261632358636,\n",
              "  0.08520875265310099,\n",
              "  0.06438366053318911,\n",
              "  0.061387891365358466,\n",
              "  0.0700647637759755,\n",
              "  0.05900383200905808,\n",
              "  0.08865986182712592,\n",
              "  0.0502878514292476,\n",
              "  0.0934453390948065,\n",
              "  0.051585288751092584,\n",
              "  0.04886827188042494,\n",
              "  0.05962915012694813],\n",
              " 'val_acc': [0.9736842,\n",
              "  0.9736842,\n",
              "  0.9736842,\n",
              "  0.9736842,\n",
              "  0.9736842,\n",
              "  0.9736842,\n",
              "  0.9736842,\n",
              "  0.9736842,\n",
              "  0.9736842,\n",
              "  0.9736842,\n",
              "  0.9736842,\n",
              "  0.9736842,\n",
              "  0.9736842,\n",
              "  0.9736842,\n",
              "  0.9736842,\n",
              "  0.9736842,\n",
              "  0.9736842,\n",
              "  0.9736842,\n",
              "  0.9736842,\n",
              "  0.9736842,\n",
              "  0.9736842,\n",
              "  0.9736842,\n",
              "  0.9736842,\n",
              "  0.9736842,\n",
              "  0.9736842,\n",
              "  0.9736842,\n",
              "  0.9736842,\n",
              "  0.9736842,\n",
              "  0.9736842,\n",
              "  0.9736842,\n",
              "  0.9736842,\n",
              "  0.9736842,\n",
              "  0.9736842,\n",
              "  0.9736842,\n",
              "  0.9736842,\n",
              "  0.9736842,\n",
              "  0.9736842,\n",
              "  0.9736842,\n",
              "  0.9736842,\n",
              "  0.9736842,\n",
              "  0.9736842,\n",
              "  0.9736842,\n",
              "  0.9736842,\n",
              "  0.9736842,\n",
              "  0.9736842,\n",
              "  0.9736842,\n",
              "  0.9736842,\n",
              "  0.9736842,\n",
              "  0.9736842,\n",
              "  0.9736842],\n",
              " 'val_loss': [0.15535608646378182,\n",
              "  0.15485769428574203,\n",
              "  0.15444712497686086,\n",
              "  0.15485834885846106,\n",
              "  0.15556716716341806,\n",
              "  0.15607651570207326,\n",
              "  0.15632795398695426,\n",
              "  0.15727930659787698,\n",
              "  0.1573516018035119,\n",
              "  0.15741555490776113,\n",
              "  0.15760187193620623,\n",
              "  0.1577303451404237,\n",
              "  0.15825657651089786,\n",
              "  0.16024557422650487,\n",
              "  0.16103932836599516,\n",
              "  0.16132536713491408,\n",
              "  0.16154321877841363,\n",
              "  0.16254128907856188,\n",
              "  0.16257858851499724,\n",
              "  0.16295177581017478,\n",
              "  0.16352839709112518,\n",
              "  0.1639226881558435,\n",
              "  0.1637952377398809,\n",
              "  0.16391734125321372,\n",
              "  0.16439838106172128,\n",
              "  0.164360170628418,\n",
              "  0.16474571392724388,\n",
              "  0.1629178284814483,\n",
              "  0.1629120648037969,\n",
              "  0.1622304747763433,\n",
              "  0.16348480523090092,\n",
              "  0.16362350081142626,\n",
              "  0.16470116834368623,\n",
              "  0.16490750379141486,\n",
              "  0.1647963994427731,\n",
              "  0.1649803511406246,\n",
              "  0.16543748654555857,\n",
              "  0.16576069593429565,\n",
              "  0.16682309539694534,\n",
              "  0.16713237563115463,\n",
              "  0.16857671005684033,\n",
              "  0.16859409709771475,\n",
              "  0.16971416647235552,\n",
              "  0.17037470874033475,\n",
              "  0.17088225274755245,\n",
              "  0.17064217184037134,\n",
              "  0.17060316417758403,\n",
              "  0.17119594725469747,\n",
              "  0.1716103023081495,\n",
              "  0.17220701989636086]}"
            ]
          },
          "metadata": {
            "tags": []
          },
          "execution_count": 34
        }
      ]
    },
    {
      "cell_type": "code",
      "metadata": {
        "id": "Etdg6mbwNCVI",
        "colab_type": "code",
        "colab": {}
      },
      "source": [
        "def plot_curve(history):\n",
        "  epoch_range =range(1,51)\n",
        "  plt.plot(epoch_range, history.history['acc'])\n",
        "  plt.plot(epoch_range, history.history['val_acc'])\n",
        "  plt.title(\"Model_Accuracy\")\n",
        "  \n",
        "  plt.ylabel(\"accuracy\")\n",
        "  plt.xlabel(\"epoch\")\n",
        "  plt.legend(['train','val'], loc = \"upper left\")\n",
        "  plt.show()\n",
        "\n",
        "  plt.plot(epoch_range, history.history['loss'])\n",
        "  plt.plot(epoch_range, history.history['val_loss'])\n",
        "  plt.title(\"Model_loss\")\n",
        "  \n",
        "  plt.ylabel(\"loss\")\n",
        "  plt.xlabel(\"epoch\")\n",
        "  plt.legend(['train','val'], loc = \"upper right\")\n",
        "  plt.show()"
      ],
      "execution_count": 0,
      "outputs": []
    },
    {
      "cell_type": "code",
      "metadata": {
        "id": "7i7e0BFbNNek",
        "colab_type": "code",
        "outputId": "65d9105d-7878-48e0-d1a5-0713f25ccd34",
        "colab": {
          "base_uri": "https://localhost:8080/",
          "height": 573
        }
      },
      "source": [
        "plot_curve(history)"
      ],
      "execution_count": 0,
      "outputs": [
        {
          "output_type": "display_data",
          "data": {
            "image/png": "[encoded data removed]",
            "text/plain": [
              "<Figure size 432x288 with 1 Axes>"
            ]
          },
          "metadata": {
            "tags": []
          }
        },
        {
          "output_type": "display_data",
          "data": {
            "image/png": "[encoded data removed]",
            "text/plain": [
              "<Figure size 432x288 with 1 Axes>"
            ]
          },
          "metadata": {
            "tags": []
          }
        }
      ]
    },
    {
      "cell_type": "markdown",
      "metadata": {
        "id": "8Mvq67ceOgl8",
        "colab_type": "text"
      },
      "source": [
        "From the above curve, the yellow line represents the validation accuracy and validation loss respectively. similaly, the blue line represents the training \n",
        "accuracy and training loss.\n",
        "\n",
        "from fig 1:-\n",
        "the blue line sometimes exceeds the yellow line means the model is oerfitting whenever the training acc is greater than validatioin accuracy. In order to be proper the yellow line should always be above than the blue.\n",
        "\n",
        "from fig 2:- The yellow line should have been below the the blue line meaning that the validation error should be lesser than training error but its not happening in our case."
      ]
    },
    {
      "cell_type": "code",
      "metadata": {
        "id": "3l2kyunbP14W",
        "colab_type": "code",
        "colab": {}
      },
      "source": [
        ""
      ],
      "execution_count": 0,
      "outputs": []
    }
  ]
}