{
  "nbformat": 4,
  "nbformat_minor": 0,
  "metadata": {
    "colab": {
      "name": "Airline.ipynb",
      "provenance": [],
      "collapsed_sections": [],
      "toc_visible": true
    },
    "kernelspec": {
      "name": "python3",
      "display_name": "Python 3"
    },
    "accelerator": "TPU"
  },
  "cells": [
    {
      "cell_type": "code",
      "metadata": {
        "id": "NGdUCFqBfZjX",
        "colab_type": "code",
        "outputId": "23de0851-29c3-4b04-9e46-d5f6ba26c9b5",
        "colab": {
          "base_uri": "https://localhost:8080/",
          "height": 608
        }
      },
      "source": [
        "pip install tensorflow-gpu==2.0.0\n"
      ],
      "execution_count": 0,
      "outputs": [
        {
          "output_type": "stream",
          "text": [
            "Requirement already satisfied: tensorflow-gpu==2.0.0 in /usr/local/lib/python3.6/dist-packages (2.0.0)\n",
            "Requirement already satisfied: grpcio>=1.8.6 in /usr/local/lib/python3.6/dist-packages (from tensorflow-gpu==2.0.0) (1.15.0)\n",
            "Requirement already satisfied: keras-preprocessing>=1.0.5 in /usr/local/lib/python3.6/dist-packages (from tensorflow-gpu==2.0.0) (1.1.0)\n",
            "Requirement already satisfied: numpy<2.0,>=1.16.0 in /usr/local/lib/python3.6/dist-packages (from tensorflow-gpu==2.0.0) (1.17.5)\n",
            "Requirement already satisfied: absl-py>=0.7.0 in /usr/local/lib/python3.6/dist-packages (from tensorflow-gpu==2.0.0) (0.9.0)\n",
            "Requirement already satisfied: tensorflow-estimator<2.1.0,>=2.0.0 in /usr/local/lib/python3.6/dist-packages (from tensorflow-gpu==2.0.0) (2.0.1)\n",
            "Requirement already satisfied: termcolor>=1.1.0 in /usr/local/lib/python3.6/dist-packages (from tensorflow-gpu==2.0.0) (1.1.0)\n",
            "Requirement already satisfied: tensorboard<2.1.0,>=2.0.0 in /usr/local/lib/python3.6/dist-packages (from tensorflow-gpu==2.0.0) (2.0.2)\n",
            "Requirement already satisfied: gast==0.2.2 in /usr/local/lib/python3.6/dist-packages (from tensorflow-gpu==2.0.0) (0.2.2)\n",
            "Requirement already satisfied: google-pasta>=0.1.6 in /usr/local/lib/python3.6/dist-packages (from tensorflow-gpu==2.0.0) (0.1.8)\n",
            "Requirement already satisfied: protobuf>=3.6.1 in /usr/local/lib/python3.6/dist-packages (from tensorflow-gpu==2.0.0) (3.10.0)\n",
            "Requirement already satisfied: six>=1.10.0 in /usr/local/lib/python3.6/dist-packages (from tensorflow-gpu==2.0.0) (1.12.0)\n",
            "Requirement already satisfied: wrapt>=1.11.1 in /usr/local/lib/python3.6/dist-packages (from tensorflow-gpu==2.0.0) (1.11.2)\n",
            "Requirement already satisfied: wheel>=0.26 in /usr/local/lib/python3.6/dist-packages (from tensorflow-gpu==2.0.0) (0.33.6)\n",
            "Requirement already satisfied: astor>=0.6.0 in /usr/local/lib/python3.6/dist-packages (from tensorflow-gpu==2.0.0) (0.8.1)\n",
            "Requirement already satisfied: opt-einsum>=2.3.2 in /usr/local/lib/python3.6/dist-packages (from tensorflow-gpu==2.0.0) (3.1.0)\n",
            "Requirement already satisfied: keras-applications>=1.0.8 in /usr/local/lib/python3.6/dist-packages (from tensorflow-gpu==2.0.0) (1.0.8)\n",
            "Requirement already satisfied: markdown>=2.6.8 in /usr/local/lib/python3.6/dist-packages (from tensorboard<2.1.0,>=2.0.0->tensorflow-gpu==2.0.0) (3.1.1)\n",
            "Requirement already satisfied: setuptools>=41.0.0 in /usr/local/lib/python3.6/dist-packages (from tensorboard<2.1.0,>=2.0.0->tensorflow-gpu==2.0.0) (42.0.2)\n",
            "Requirement already satisfied: requests<3,>=2.21.0 in /usr/local/lib/python3.6/dist-packages (from tensorboard<2.1.0,>=2.0.0->tensorflow-gpu==2.0.0) (2.21.0)\n",
            "Requirement already satisfied: google-auth-oauthlib<0.5,>=0.4.1 in /usr/local/lib/python3.6/dist-packages (from tensorboard<2.1.0,>=2.0.0->tensorflow-gpu==2.0.0) (0.4.1)\n",
            "Requirement already satisfied: werkzeug>=0.11.15 in /usr/local/lib/python3.6/dist-packages (from tensorboard<2.1.0,>=2.0.0->tensorflow-gpu==2.0.0) (0.16.0)\n",
            "Requirement already satisfied: google-auth<2,>=1.6.3 in /usr/local/lib/python3.6/dist-packages (from tensorboard<2.1.0,>=2.0.0->tensorflow-gpu==2.0.0) (1.10.1)\n",
            "Requirement already satisfied: h5py in /usr/local/lib/python3.6/dist-packages (from keras-applications>=1.0.8->tensorflow-gpu==2.0.0) (2.8.0)\n",
            "Requirement already satisfied: chardet<3.1.0,>=3.0.2 in /usr/local/lib/python3.6/dist-packages (from requests<3,>=2.21.0->tensorboard<2.1.0,>=2.0.0->tensorflow-gpu==2.0.0) (3.0.4)\n",
            "Requirement already satisfied: urllib3<1.25,>=1.21.1 in /usr/local/lib/python3.6/dist-packages (from requests<3,>=2.21.0->tensorboard<2.1.0,>=2.0.0->tensorflow-gpu==2.0.0) (1.24.3)\n",
            "Requirement already satisfied: idna<2.9,>=2.5 in /usr/local/lib/python3.6/dist-packages (from requests<3,>=2.21.0->tensorboard<2.1.0,>=2.0.0->tensorflow-gpu==2.0.0) (2.8)\n",
            "Requirement already satisfied: certifi>=2017.4.17 in /usr/local/lib/python3.6/dist-packages (from requests<3,>=2.21.0->tensorboard<2.1.0,>=2.0.0->tensorflow-gpu==2.0.0) (2019.11.28)\n",
            "Requirement already satisfied: requests-oauthlib>=0.7.0 in /usr/local/lib/python3.6/dist-packages (from google-auth-oauthlib<0.5,>=0.4.1->tensorboard<2.1.0,>=2.0.0->tensorflow-gpu==2.0.0) (1.3.0)\n",
            "Requirement already satisfied: cachetools<5.0,>=2.0.0 in /usr/local/lib/python3.6/dist-packages (from google-auth<2,>=1.6.3->tensorboard<2.1.0,>=2.0.0->tensorflow-gpu==2.0.0) (4.0.0)\n",
            "Requirement already satisfied: pyasn1-modules>=0.2.1 in /usr/local/lib/python3.6/dist-packages (from google-auth<2,>=1.6.3->tensorboard<2.1.0,>=2.0.0->tensorflow-gpu==2.0.0) (0.2.7)\n",
            "Requirement already satisfied: rsa<4.1,>=3.1.4 in /usr/local/lib/python3.6/dist-packages (from google-auth<2,>=1.6.3->tensorboard<2.1.0,>=2.0.0->tensorflow-gpu==2.0.0) (4.0)\n",
            "Requirement already satisfied: oauthlib>=3.0.0 in /usr/local/lib/python3.6/dist-packages (from requests-oauthlib>=0.7.0->google-auth-oauthlib<0.5,>=0.4.1->tensorboard<2.1.0,>=2.0.0->tensorflow-gpu==2.0.0) (3.1.0)\n",
            "Requirement already satisfied: pyasn1<0.5.0,>=0.4.6 in /usr/local/lib/python3.6/dist-packages (from pyasn1-modules>=0.2.1->google-auth<2,>=1.6.3->tensorboard<2.1.0,>=2.0.0->tensorflow-gpu==2.0.0) (0.4.8)\n"
          ],
          "name": "stdout"
        }
      ]
    },
    {
      "cell_type": "code",
      "metadata": {
        "id": "PiZklfgmfdPu",
        "colab_type": "code",
        "outputId": "589f8541-7b30-42a8-957f-9fa539dc38dd",
        "colab": {
          "base_uri": "https://localhost:8080/",
          "height": 34
        }
      },
      "source": [
        "import tensorflow as tf\n",
        "\n",
        "from tensorflow.keras import Sequential\n",
        "from tensorflow.keras.layers import LSTM, Dropout,Dense\n",
        "\n",
        "print(tf.__version__) "
      ],
      "execution_count": 0,
      "outputs": [
        {
          "output_type": "stream",
          "text": [
            "2.0.0\n"
          ],
          "name": "stdout"
        }
      ]
    },
    {
      "cell_type": "code",
      "metadata": {
        "id": "0ODbMeNhfmoo",
        "colab_type": "code",
        "colab": {}
      },
      "source": [
        "import numpy as np\n",
        "import matplotlib.pyplot as plt\n",
        "import pandas as pd\n",
        "\n",
        "from sklearn.preprocessing import MinMaxScaler"
      ],
      "execution_count": 0,
      "outputs": []
    },
    {
      "cell_type": "code",
      "metadata": {
        "id": "mrv7gmlXgLSn",
        "colab_type": "code",
        "outputId": "1116bb63-9bd2-4b09-e526-b9d1619bd1ce",
        "colab": {
          "base_uri": "https://localhost:8080/",
          "height": 195
        }
      },
      "source": [
        "data = pd.read_csv('AirPassengers.csv')\n",
        "data.head()"
      ],
      "execution_count": 0,
      "outputs": [
        {
          "output_type": "execute_result",
          "data": {
            "text/html": [
              "<div>\n",
              "<style scoped>\n",
              "    .dataframe tbody tr th:only-of-type {\n",
              "        vertical-align: middle;\n",
              "    }\n",
              "\n",
              "    .dataframe tbody tr th {\n",
              "        vertical-align: top;\n",
              "    }\n",
              "\n",
              "    .dataframe thead th {\n",
              "        text-align: right;\n",
              "    }\n",
              "</style>\n",
              "<table border=\"1\" class=\"dataframe\">\n",
              "  <thead>\n",
              "    <tr style=\"text-align: right;\">\n",
              "      <th></th>\n",
              "      <th>Month</th>\n",
              "      <th>#Passengers</th>\n",
              "    </tr>\n",
              "  </thead>\n",
              "  <tbody>\n",
              "    <tr>\n",
              "      <th>0</th>\n",
              "      <td>1949-01</td>\n",
              "      <td>112</td>\n",
              "    </tr>\n",
              "    <tr>\n",
              "      <th>1</th>\n",
              "      <td>1949-02</td>\n",
              "      <td>118</td>\n",
              "    </tr>\n",
              "    <tr>\n",
              "      <th>2</th>\n",
              "      <td>1949-03</td>\n",
              "      <td>132</td>\n",
              "    </tr>\n",
              "    <tr>\n",
              "      <th>3</th>\n",
              "      <td>1949-04</td>\n",
              "      <td>129</td>\n",
              "    </tr>\n",
              "    <tr>\n",
              "      <th>4</th>\n",
              "      <td>1949-05</td>\n",
              "      <td>121</td>\n",
              "    </tr>\n",
              "  </tbody>\n",
              "</table>\n",
              "</div>"
            ],
            "text/plain": [
              "     Month  #Passengers\n",
              "0  1949-01          112\n",
              "1  1949-02          118\n",
              "2  1949-03          132\n",
              "3  1949-04          129\n",
              "4  1949-05          121"
            ]
          },
          "metadata": {
            "tags": []
          },
          "execution_count": 9
        }
      ]
    },
    {
      "cell_type": "code",
      "metadata": {
        "id": "TC9ulgmmhtqi",
        "colab_type": "code",
        "outputId": "a295d12a-1718-4fcf-e213-63c060180ada",
        "colab": {
          "base_uri": "https://localhost:8080/",
          "height": 118
        }
      },
      "source": [
        "data = data['#Passengers']\n",
        "data.head()"
      ],
      "execution_count": 0,
      "outputs": [
        {
          "output_type": "execute_result",
          "data": {
            "text/plain": [
              "0    112\n",
              "1    118\n",
              "2    132\n",
              "3    129\n",
              "4    121\n",
              "Name: #Passengers, dtype: int64"
            ]
          },
          "metadata": {
            "tags": []
          },
          "execution_count": 10
        }
      ]
    },
    {
      "cell_type": "code",
      "metadata": {
        "id": "LEK1PjJKldUI",
        "colab_type": "code",
        "outputId": "74658785-c1a1-431e-8518-18d52f619ccb",
        "colab": {
          "base_uri": "https://localhost:8080/",
          "height": 282
        }
      },
      "source": [
        "plt.plot(data)"
      ],
      "execution_count": 0,
      "outputs": [
        {
          "output_type": "execute_result",
          "data": {
            "text/plain": [
              "[<matplotlib.lines.Line2D at 0x7ff30e2e0978>]"
            ]
          },
          "metadata": {
            "tags": []
          },
          "execution_count": 11
        },
        {
          "output_type": "display_data",
          "data": {
            "image/png": "[encoded data removed]",
            "text/plain": [
              "<Figure size 432x288 with 1 Axes>"
            ]
          },
          "metadata": {
            "tags": []
          }
        }
      ]
    },
    {
      "cell_type": "code",
      "metadata": {
        "id": "cafuIzoPliiZ",
        "colab_type": "code",
        "outputId": "8c4c7927-df3f-4076-b316-d2a8d94c2f5a",
        "colab": {
          "base_uri": "https://localhost:8080/",
          "height": 34
        }
      },
      "source": [
        "data = np.array(data).reshape(-1,1)\n",
        "data.shape"
      ],
      "execution_count": 0,
      "outputs": [
        {
          "output_type": "execute_result",
          "data": {
            "text/plain": [
              "(144, 1)"
            ]
          },
          "metadata": {
            "tags": []
          },
          "execution_count": 12
        }
      ]
    },
    {
      "cell_type": "code",
      "metadata": {
        "id": "DOFqRatbl177",
        "colab_type": "code",
        "colab": {}
      },
      "source": [
        "scaler = MinMaxScaler()\n",
        "data = scaler.fit_transform(data)\n"
      ],
      "execution_count": 0,
      "outputs": []
    },
    {
      "cell_type": "code",
      "metadata": {
        "id": "9_Kb8unImJPu",
        "colab_type": "code",
        "colab": {}
      },
      "source": [
        "train_size = 100\n",
        "test_size = 44"
      ],
      "execution_count": 0,
      "outputs": []
    },
    {
      "cell_type": "code",
      "metadata": {
        "id": "fFRUfXBlm6Tv",
        "colab_type": "code",
        "outputId": "1c999324-98d8-4bb4-9470-918d23c8c34d",
        "colab": {
          "base_uri": "https://localhost:8080/",
          "height": 34
        }
      },
      "source": [
        "train = data[0:100,:]  # 0 dekhi 100 samma sabai\n",
        "test = data[100:144,:] # 100 dekhi 144 sammma sabai\n",
        "train.shape,test.shape"
      ],
      "execution_count": 0,
      "outputs": [
        {
          "output_type": "execute_result",
          "data": {
            "text/plain": [
              "((100, 1), (44, 1))"
            ]
          },
          "metadata": {
            "tags": []
          },
          "execution_count": 15
        }
      ]
    },
    {
      "cell_type": "markdown",
      "metadata": {
        "id": "DGigjteHnZ0m",
        "colab_type": "text"
      },
      "source": [
        "### build train and test data"
      ]
    },
    {
      "cell_type": "code",
      "metadata": {
        "id": "_WXSF9nbngOs",
        "colab_type": "code",
        "colab": {}
      },
      "source": [
        "def get_data(dataset,look_back):\n",
        "  x = []\n",
        "  y = []\n",
        "  for i in range(len(dataset)-look_back-1):\n",
        "    a = dataset[i: (i + look_back),0 ]\n",
        "    x.append(a)\n",
        "    y.append(dataset[i+look_back,0])\n",
        "  \n",
        "  return np.array(x), np.array(y)\n"
      ],
      "execution_count": 0,
      "outputs": []
    },
    {
      "cell_type": "code",
      "metadata": {
        "id": "tYIIZVWhooUH",
        "colab_type": "code",
        "outputId": "03570847-bb8e-42d0-b684-f7f0e85cd598",
        "colab": {
          "base_uri": "https://localhost:8080/",
          "height": 34
        }
      },
      "source": [
        "x_train,y_train = get_data(train,look_back=1)\n",
        "x_train.shape, y_train.shape"
      ],
      "execution_count": 0,
      "outputs": [
        {
          "output_type": "execute_result",
          "data": {
            "text/plain": [
              "((98, 1), (98,))"
            ]
          },
          "metadata": {
            "tags": []
          },
          "execution_count": 17
        }
      ]
    },
    {
      "cell_type": "code",
      "metadata": {
        "id": "0TRyFtwhpDnw",
        "colab_type": "code",
        "outputId": "391c5224-d02a-4335-af0b-f15606902614",
        "colab": {
          "base_uri": "https://localhost:8080/",
          "height": 34
        }
      },
      "source": [
        "x_test, y_test = get_data(test,1)\n",
        "x_test.shape,y_test.shape"
      ],
      "execution_count": 0,
      "outputs": [
        {
          "output_type": "execute_result",
          "data": {
            "text/plain": [
              "((42, 1), (42,))"
            ]
          },
          "metadata": {
            "tags": []
          },
          "execution_count": 37
        }
      ]
    },
    {
      "cell_type": "code",
      "metadata": {
        "id": "C-SRnvc9p15L",
        "colab_type": "code",
        "outputId": "a1eae733-a3b6-4979-e0be-a13fd9fc323e",
        "colab": {
          "base_uri": "https://localhost:8080/",
          "height": 34
        }
      },
      "source": [
        "x_train = x_train.reshape(98,1,1)\n",
        "x_test = x_test.reshape(42,1,1)\n",
        "x_train.shape, x_test.shape"
      ],
      "execution_count": 0,
      "outputs": [
        {
          "output_type": "execute_result",
          "data": {
            "text/plain": [
              "((98, 1, 1), (42, 1, 1))"
            ]
          },
          "metadata": {
            "tags": []
          },
          "execution_count": 19
        }
      ]
    },
    {
      "cell_type": "markdown",
      "metadata": {
        "id": "BvhUpOWMu3Zg",
        "colab_type": "text"
      },
      "source": [
        "converting 2-d data to 3-d"
      ]
    },
    {
      "cell_type": "code",
      "metadata": {
        "id": "FsM-0-GXu1OF",
        "colab_type": "code",
        "colab": {}
      },
      "source": [
        ""
      ],
      "execution_count": 0,
      "outputs": []
    },
    {
      "cell_type": "markdown",
      "metadata": {
        "id": "F_Qq6f69u-mD",
        "colab_type": "text"
      },
      "source": [
        "### model"
      ]
    },
    {
      "cell_type": "code",
      "metadata": {
        "id": "XX1s_yTovB5d",
        "colab_type": "code",
        "colab": {}
      },
      "source": [
        "model = Sequential()\n",
        "model.add(LSTM(5,input_shape = (1,1)))\n",
        "model.add(Dense(1))\n",
        "model.compile(loss= 'mean_squared_error',optimizer = 'adam')"
      ],
      "execution_count": 0,
      "outputs": []
    },
    {
      "cell_type": "code",
      "metadata": {
        "id": "0DxCOqoTvm7I",
        "colab_type": "code",
        "outputId": "e3c75b46-3342-4c69-c734-69fa747b4be8",
        "colab": {
          "base_uri": "https://localhost:8080/",
          "height": 218
        }
      },
      "source": [
        "model.summary()"
      ],
      "execution_count": 0,
      "outputs": [
        {
          "output_type": "stream",
          "text": [
            "Model: \"sequential\"\n",
            "_________________________________________________________________\n",
            "Layer (type)                 Output Shape              Param #   \n",
            "=================================================================\n",
            "lstm (LSTM)                  (None, 5)                 140       \n",
            "_________________________________________________________________\n",
            "dense (Dense)                (None, 1)                 6         \n",
            "=================================================================\n",
            "Total params: 146\n",
            "Trainable params: 146\n",
            "Non-trainable params: 0\n",
            "_________________________________________________________________\n"
          ],
          "name": "stdout"
        }
      ]
    },
    {
      "cell_type": "code",
      "metadata": {
        "id": "SguSmFanvpoD",
        "colab_type": "code",
        "outputId": "760feeee-f3d4-49b3-f5c5-14f9e550a28e",
        "colab": {
          "base_uri": "https://localhost:8080/",
          "height": 1000
        }
      },
      "source": [
        "history = model.fit(x_train,y_train, epochs=40,batch_size=1)"
      ],
      "execution_count": 0,
      "outputs": [
        {
          "output_type": "stream",
          "text": [
            "Train on 98 samples\n",
            "Epoch 1/40\n",
            "98/98 [==============================] - 2s 25ms/sample - loss: 0.0382\n",
            "Epoch 2/40\n",
            "98/98 [==============================] - 0s 2ms/sample - loss: 0.0160\n",
            "Epoch 3/40\n",
            "98/98 [==============================] - 0s 2ms/sample - loss: 0.0131\n",
            "Epoch 4/40\n",
            "98/98 [==============================] - 0s 2ms/sample - loss: 0.0116\n",
            "Epoch 5/40\n",
            "98/98 [==============================] - 0s 2ms/sample - loss: 0.0103\n",
            "Epoch 6/40\n",
            "98/98 [==============================] - 0s 2ms/sample - loss: 0.0089\n",
            "Epoch 7/40\n",
            "98/98 [==============================] - 0s 2ms/sample - loss: 0.0078\n",
            "Epoch 8/40\n",
            "98/98 [==============================] - 0s 2ms/sample - loss: 0.0067\n",
            "Epoch 9/40\n",
            "98/98 [==============================] - 0s 2ms/sample - loss: 0.0056\n",
            "Epoch 10/40\n",
            "98/98 [==============================] - 0s 3ms/sample - loss: 0.0047\n",
            "Epoch 11/40\n",
            "98/98 [==============================] - 0s 3ms/sample - loss: 0.0040\n",
            "Epoch 12/40\n",
            "98/98 [==============================] - 0s 3ms/sample - loss: 0.0035\n",
            "Epoch 13/40\n",
            "98/98 [==============================] - 0s 3ms/sample - loss: 0.0030\n",
            "Epoch 14/40\n",
            "98/98 [==============================] - 0s 3ms/sample - loss: 0.0027\n",
            "Epoch 15/40\n",
            "98/98 [==============================] - 0s 3ms/sample - loss: 0.0025\n",
            "Epoch 16/40\n",
            "98/98 [==============================] - 0s 2ms/sample - loss: 0.0023\n",
            "Epoch 17/40\n",
            "98/98 [==============================] - 0s 2ms/sample - loss: 0.0022\n",
            "Epoch 18/40\n",
            "98/98 [==============================] - 0s 3ms/sample - loss: 0.0022\n",
            "Epoch 19/40\n",
            "98/98 [==============================] - 0s 3ms/sample - loss: 0.0022\n",
            "Epoch 20/40\n",
            "98/98 [==============================] - 0s 2ms/sample - loss: 0.0022\n",
            "Epoch 21/40\n",
            "98/98 [==============================] - 0s 3ms/sample - loss: 0.0021\n",
            "Epoch 22/40\n",
            "98/98 [==============================] - 0s 3ms/sample - loss: 0.0021\n",
            "Epoch 23/40\n",
            "98/98 [==============================] - 0s 2ms/sample - loss: 0.0021\n",
            "Epoch 24/40\n",
            "98/98 [==============================] - 0s 3ms/sample - loss: 0.0021\n",
            "Epoch 25/40\n",
            "98/98 [==============================] - 0s 3ms/sample - loss: 0.0021\n",
            "Epoch 26/40\n",
            "98/98 [==============================] - 0s 3ms/sample - loss: 0.0021\n",
            "Epoch 27/40\n",
            "98/98 [==============================] - 0s 3ms/sample - loss: 0.0021\n",
            "Epoch 28/40\n",
            "98/98 [==============================] - 0s 2ms/sample - loss: 0.0022\n",
            "Epoch 29/40\n",
            "98/98 [==============================] - 0s 2ms/sample - loss: 0.0021\n",
            "Epoch 30/40\n",
            "98/98 [==============================] - 0s 2ms/sample - loss: 0.0021\n",
            "Epoch 31/40\n",
            "98/98 [==============================] - 0s 2ms/sample - loss: 0.0021\n",
            "Epoch 32/40\n",
            "98/98 [==============================] - 0s 2ms/sample - loss: 0.0021\n",
            "Epoch 33/40\n",
            "98/98 [==============================] - 0s 2ms/sample - loss: 0.0021\n",
            "Epoch 34/40\n",
            "98/98 [==============================] - 0s 2ms/sample - loss: 0.0021\n",
            "Epoch 35/40\n",
            "98/98 [==============================] - 0s 2ms/sample - loss: 0.0021\n",
            "Epoch 36/40\n",
            "98/98 [==============================] - 0s 2ms/sample - loss: 0.0021\n",
            "Epoch 37/40\n",
            "98/98 [==============================] - 0s 3ms/sample - loss: 0.0021\n",
            "Epoch 38/40\n",
            "98/98 [==============================] - 0s 3ms/sample - loss: 0.0023\n",
            "Epoch 39/40\n",
            "98/98 [==============================] - 0s 3ms/sample - loss: 0.0021\n",
            "Epoch 40/40\n",
            "98/98 [==============================] - 0s 3ms/sample - loss: 0.0022\n"
          ],
          "name": "stdout"
        }
      ]
    },
    {
      "cell_type": "code",
      "metadata": {
        "id": "J1Pu53Alv63z",
        "colab_type": "code",
        "colab": {}
      },
      "source": [
        "y_pred = model.predict(x_test)"
      ],
      "execution_count": 0,
      "outputs": []
    },
    {
      "cell_type": "code",
      "metadata": {
        "id": "TrY8G9pswBPT",
        "colab_type": "code",
        "colab": {}
      },
      "source": [
        "y_pred = scaler.inverse_transform(y_pred)"
      ],
      "execution_count": 0,
      "outputs": []
    },
    {
      "cell_type": "code",
      "metadata": {
        "id": "scnzqViAwOIl",
        "colab_type": "code",
        "colab": {}
      },
      "source": [
        "y_test = np.array(y_test)\n",
        "y_test = y_test.reshape(-1,1)\n",
        "y_test = scaler.inverse_transform(y_test)"
      ],
      "execution_count": 0,
      "outputs": []
    },
    {
      "cell_type": "markdown",
      "metadata": {
        "id": "bzuUULg_wiEd",
        "colab_type": "text"
      },
      "source": [
        "scale gareko data lai original banako"
      ]
    },
    {
      "cell_type": "code",
      "metadata": {
        "id": "Ktjmlcsmwgqq",
        "colab_type": "code",
        "outputId": "27ba4a9f-e757-4684-b176-62de0bd0a57c",
        "colab": {
          "base_uri": "https://localhost:8080/",
          "height": 722
        }
      },
      "source": [
        "y_test"
      ],
      "execution_count": 0,
      "outputs": [
        {
          "output_type": "execute_result",
          "data": {
            "text/plain": [
              "array([[9.37985280e+07],\n",
              "       [1.10664344e+08],\n",
              "       [1.21164152e+08],\n",
              "       [1.21645200e+08],\n",
              "       [1.06187072e+08],\n",
              "       [9.17531120e+07],\n",
              "       [8.09451760e+07],\n",
              "       [8.89325600e+07],\n",
              "       [8.99592320e+07],\n",
              "       [8.43003680e+07],\n",
              "       [9.55837280e+07],\n",
              "       [9.20090880e+07],\n",
              "       [9.58383920e+07],\n",
              "       [1.13869144e+08],\n",
              "       [1.27363408e+08],\n",
              "       [1.30651072e+08],\n",
              "       [1.06187072e+08],\n",
              "       [9.48191760e+07],\n",
              "       [8.22363840e+07],\n",
              "       [8.91893360e+07],\n",
              "       [9.50741360e+07],\n",
              "       [9.04721440e+07],\n",
              "       [1.06686720e+08],\n",
              "       [1.04183312e+08],\n",
              "       [1.10169104e+08],\n",
              "       [1.22844824e+08],\n",
              "       [1.40515664e+08],\n",
              "       [1.42980656e+08],\n",
              "       [1.20682392e+08],\n",
              "       [1.06936360e+08],\n",
              "       [9.55837280e+07],\n",
              "       [1.06436976e+08],\n",
              "       [1.09425168e+08],\n",
              "       [1.02926880e+08],\n",
              "       [1.09921256e+08],\n",
              "       [1.20200000e+08],\n",
              "       [1.22844824e+08],\n",
              "       [1.37571328e+08],\n",
              "       [1.56621648e+08],\n",
              "       [1.53235168e+08],\n",
              "       [1.31350840e+08],\n",
              "       [1.20200000e+08]], dtype=float32)"
            ]
          },
          "metadata": {
            "tags": []
          },
          "execution_count": 32
        }
      ]
    },
    {
      "cell_type": "code",
      "metadata": {
        "id": "IEoFOx-IRqUl",
        "colab_type": "code",
        "outputId": "b66e2fdb-e8a7-4955-a6a7-b0cc83c94c66",
        "colab": {
          "base_uri": "https://localhost:8080/",
          "height": 34
        }
      },
      "source": [
        "scaler.scale_"
      ],
      "execution_count": 0,
      "outputs": [
        {
          "output_type": "execute_result",
          "data": {
            "text/plain": [
              "array([0.0019305])"
            ]
          },
          "metadata": {
            "tags": []
          },
          "execution_count": 33
        }
      ]
    },
    {
      "cell_type": "code",
      "metadata": {
        "id": "idfPW-jrw5PR",
        "colab_type": "code",
        "outputId": "85975a31-ea07-4bb2-fcc0-5921c42991b6",
        "colab": {
          "base_uri": "https://localhost:8080/",
          "height": 320
        }
      },
      "source": [
        "plt.figure(figsize=(14,5))\n",
        "plt.plot(y_test,label = \"real numbers\")\n",
        "plt.plot(y_pred, label = \"predicted\")\n",
        "plt.ylabel(\"pass\")\n",
        "plt.legend()\n",
        "plt.show()\n"
      ],
      "execution_count": 0,
      "outputs": [
        {
          "output_type": "display_data",
          "data": {
            "image/png": "[encoded data removed]",
            "text/plain": [
              "<Figure size 1008x360 with 1 Axes>"
            ]
          },
          "metadata": {
            "tags": []
          }
        }
      ]
    },
    {
      "cell_type": "markdown",
      "metadata": {
        "id": "k4M4z5ApTNv7",
        "colab_type": "text"
      },
      "source": [
        "we can see the prediction is pretty good"
      ]
    },
    {
      "cell_type": "code",
      "metadata": {
        "id": "hGg3x6nSxn1x",
        "colab_type": "code",
        "colab": {}
      },
      "source": [
        ""
      ],
      "execution_count": 0,
      "outputs": []
    }
  ]
}