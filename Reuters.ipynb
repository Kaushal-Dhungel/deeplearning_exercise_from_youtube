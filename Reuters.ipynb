{
  "nbformat": 4,
  "nbformat_minor": 0,
  "metadata": {
    "colab": {
      "name": "Reuters.ipynb",
      "provenance": [],
      "collapsed_sections": []
    },
    "kernelspec": {
      "name": "python3",
      "display_name": "Python 3"
    },
    "accelerator": "TPU"
  },
  "cells": [
    {
      "cell_type": "code",
      "metadata": {
        "id": "_xHZh1T2idFN",
        "colab_type": "code",
        "outputId": "f33c299b-b468-4819-b4d8-24ff10d04e1b",
        "colab": {
          "base_uri": "https://localhost:8080/",
          "height": 608
        }
      },
      "source": [
        "pip install tensorflow-gpu==2.0.0"
      ],
      "execution_count": 0,
      "outputs": [
        {
          "output_type": "stream",
          "text": [
            "Requirement already satisfied: tensorflow-gpu==2.0.0 in /usr/local/lib/python3.6/dist-packages (2.0.0)\n",
            "Requirement already satisfied: wrapt>=1.11.1 in /usr/local/lib/python3.6/dist-packages (from tensorflow-gpu==2.0.0) (1.11.2)\n",
            "Requirement already satisfied: google-pasta>=0.1.6 in /usr/local/lib/python3.6/dist-packages (from tensorflow-gpu==2.0.0) (0.1.8)\n",
            "Requirement already satisfied: keras-preprocessing>=1.0.5 in /usr/local/lib/python3.6/dist-packages (from tensorflow-gpu==2.0.0) (1.1.0)\n",
            "Requirement already satisfied: opt-einsum>=2.3.2 in /usr/local/lib/python3.6/dist-packages (from tensorflow-gpu==2.0.0) (3.1.0)\n",
            "Requirement already satisfied: termcolor>=1.1.0 in /usr/local/lib/python3.6/dist-packages (from tensorflow-gpu==2.0.0) (1.1.0)\n",
            "Requirement already satisfied: keras-applications>=1.0.8 in /usr/local/lib/python3.6/dist-packages (from tensorflow-gpu==2.0.0) (1.0.8)\n",
            "Requirement already satisfied: gast==0.2.2 in /usr/local/lib/python3.6/dist-packages (from tensorflow-gpu==2.0.0) (0.2.2)\n",
            "Requirement already satisfied: wheel>=0.26 in /usr/local/lib/python3.6/dist-packages (from tensorflow-gpu==2.0.0) (0.33.6)\n",
            "Requirement already satisfied: tensorboard<2.1.0,>=2.0.0 in /usr/local/lib/python3.6/dist-packages (from tensorflow-gpu==2.0.0) (2.0.2)\n",
            "Requirement already satisfied: six>=1.10.0 in /usr/local/lib/python3.6/dist-packages (from tensorflow-gpu==2.0.0) (1.12.0)\n",
            "Requirement already satisfied: tensorflow-estimator<2.1.0,>=2.0.0 in /usr/local/lib/python3.6/dist-packages (from tensorflow-gpu==2.0.0) (2.0.1)\n",
            "Requirement already satisfied: grpcio>=1.8.6 in /usr/local/lib/python3.6/dist-packages (from tensorflow-gpu==2.0.0) (1.15.0)\n",
            "Requirement already satisfied: absl-py>=0.7.0 in /usr/local/lib/python3.6/dist-packages (from tensorflow-gpu==2.0.0) (0.9.0)\n",
            "Requirement already satisfied: astor>=0.6.0 in /usr/local/lib/python3.6/dist-packages (from tensorflow-gpu==2.0.0) (0.8.1)\n",
            "Requirement already satisfied: numpy<2.0,>=1.16.0 in /usr/local/lib/python3.6/dist-packages (from tensorflow-gpu==2.0.0) (1.17.5)\n",
            "Requirement already satisfied: protobuf>=3.6.1 in /usr/local/lib/python3.6/dist-packages (from tensorflow-gpu==2.0.0) (3.10.0)\n",
            "Requirement already satisfied: h5py in /usr/local/lib/python3.6/dist-packages (from keras-applications>=1.0.8->tensorflow-gpu==2.0.0) (2.8.0)\n",
            "Requirement already satisfied: google-auth-oauthlib<0.5,>=0.4.1 in /usr/local/lib/python3.6/dist-packages (from tensorboard<2.1.0,>=2.0.0->tensorflow-gpu==2.0.0) (0.4.1)\n",
            "Requirement already satisfied: markdown>=2.6.8 in /usr/local/lib/python3.6/dist-packages (from tensorboard<2.1.0,>=2.0.0->tensorflow-gpu==2.0.0) (3.1.1)\n",
            "Requirement already satisfied: google-auth<2,>=1.6.3 in /usr/local/lib/python3.6/dist-packages (from tensorboard<2.1.0,>=2.0.0->tensorflow-gpu==2.0.0) (1.10.2)\n",
            "Requirement already satisfied: werkzeug>=0.11.15 in /usr/local/lib/python3.6/dist-packages (from tensorboard<2.1.0,>=2.0.0->tensorflow-gpu==2.0.0) (0.16.0)\n",
            "Requirement already satisfied: setuptools>=41.0.0 in /usr/local/lib/python3.6/dist-packages (from tensorboard<2.1.0,>=2.0.0->tensorflow-gpu==2.0.0) (42.0.2)\n",
            "Requirement already satisfied: requests<3,>=2.21.0 in /usr/local/lib/python3.6/dist-packages (from tensorboard<2.1.0,>=2.0.0->tensorflow-gpu==2.0.0) (2.21.0)\n",
            "Requirement already satisfied: requests-oauthlib>=0.7.0 in /usr/local/lib/python3.6/dist-packages (from google-auth-oauthlib<0.5,>=0.4.1->tensorboard<2.1.0,>=2.0.0->tensorflow-gpu==2.0.0) (1.3.0)\n",
            "Requirement already satisfied: cachetools<5.0,>=2.0.0 in /usr/local/lib/python3.6/dist-packages (from google-auth<2,>=1.6.3->tensorboard<2.1.0,>=2.0.0->tensorflow-gpu==2.0.0) (4.0.0)\n",
            "Requirement already satisfied: pyasn1-modules>=0.2.1 in /usr/local/lib/python3.6/dist-packages (from google-auth<2,>=1.6.3->tensorboard<2.1.0,>=2.0.0->tensorflow-gpu==2.0.0) (0.2.7)\n",
            "Requirement already satisfied: rsa<4.1,>=3.1.4 in /usr/local/lib/python3.6/dist-packages (from google-auth<2,>=1.6.3->tensorboard<2.1.0,>=2.0.0->tensorflow-gpu==2.0.0) (4.0)\n",
            "Requirement already satisfied: urllib3<1.25,>=1.21.1 in /usr/local/lib/python3.6/dist-packages (from requests<3,>=2.21.0->tensorboard<2.1.0,>=2.0.0->tensorflow-gpu==2.0.0) (1.24.3)\n",
            "Requirement already satisfied: certifi>=2017.4.17 in /usr/local/lib/python3.6/dist-packages (from requests<3,>=2.21.0->tensorboard<2.1.0,>=2.0.0->tensorflow-gpu==2.0.0) (2019.11.28)\n",
            "Requirement already satisfied: idna<2.9,>=2.5 in /usr/local/lib/python3.6/dist-packages (from requests<3,>=2.21.0->tensorboard<2.1.0,>=2.0.0->tensorflow-gpu==2.0.0) (2.8)\n",
            "Requirement already satisfied: chardet<3.1.0,>=3.0.2 in /usr/local/lib/python3.6/dist-packages (from requests<3,>=2.21.0->tensorboard<2.1.0,>=2.0.0->tensorflow-gpu==2.0.0) (3.0.4)\n",
            "Requirement already satisfied: oauthlib>=3.0.0 in /usr/local/lib/python3.6/dist-packages (from requests-oauthlib>=0.7.0->google-auth-oauthlib<0.5,>=0.4.1->tensorboard<2.1.0,>=2.0.0->tensorflow-gpu==2.0.0) (3.1.0)\n",
            "Requirement already satisfied: pyasn1<0.5.0,>=0.4.6 in /usr/local/lib/python3.6/dist-packages (from pyasn1-modules>=0.2.1->google-auth<2,>=1.6.3->tensorboard<2.1.0,>=2.0.0->tensorflow-gpu==2.0.0) (0.4.8)\n"
          ],
          "name": "stdout"
        }
      ]
    },
    {
      "cell_type": "code",
      "metadata": {
        "id": "mM93FT1LigNX",
        "colab_type": "code",
        "outputId": "98527851-5fc3-4798-fbee-4675f83cf55f",
        "colab": {
          "base_uri": "https://localhost:8080/",
          "height": 34
        }
      },
      "source": [
        "import tensorflow as tf\n",
        "\n",
        "from tensorflow.keras import Sequential\n",
        "from tensorflow.keras.layers import LSTM, Dropout,Dense,Embedding\n",
        "from tensorflow.keras.datasets import reuters\n",
        "#from tensorflow.keras.preprocessing.sequence import pad_sequences\n",
        "print(tf.__version__) "
      ],
      "execution_count": 0,
      "outputs": [
        {
          "output_type": "stream",
          "text": [
            "2.0.0\n"
          ],
          "name": "stdout"
        }
      ]
    },
    {
      "cell_type": "code",
      "metadata": {
        "id": "nDO6vEVVitcv",
        "colab_type": "code",
        "colab": {}
      },
      "source": [
        "import numpy as np\n",
        "import matplotlib.pyplot as plt"
      ],
      "execution_count": 0,
      "outputs": []
    },
    {
      "cell_type": "code",
      "metadata": {
        "id": "pfuuUkpTiujc",
        "colab_type": "code",
        "outputId": "fff424b9-d75c-48c9-bfb1-e44df321d8b2",
        "colab": {
          "base_uri": "https://localhost:8080/",
          "height": 50
        }
      },
      "source": [
        "(x_train,y_train),(x_test,y_test) = reuters.load_data(num_words=10000)"
      ],
      "execution_count": 0,
      "outputs": [
        {
          "output_type": "stream",
          "text": [
            "Downloading data from https://storage.googleapis.com/tensorflow/tf-keras-datasets/reuters.npz\n",
            "2113536/2110848 [==============================] - 0s 0us/step\n"
          ],
          "name": "stdout"
        }
      ]
    },
    {
      "cell_type": "code",
      "metadata": {
        "id": "cGTvDdvMjdyG",
        "colab_type": "code",
        "outputId": "3d739edc-ebc6-4706-8905-fd9dd07eb4c0",
        "colab": {
          "base_uri": "https://localhost:8080/",
          "height": 34
        }
      },
      "source": [
        "x_train.shape,x_test.shape"
      ],
      "execution_count": 0,
      "outputs": [
        {
          "output_type": "execute_result",
          "data": {
            "text/plain": [
              "((8982,), (2246,))"
            ]
          },
          "metadata": {
            "tags": []
          },
          "execution_count": 7
        }
      ]
    },
    {
      "cell_type": "code",
      "metadata": {
        "id": "e2hqY-oBkJ_M",
        "colab_type": "code",
        "outputId": "5bab0e7e-bf96-434b-b448-6f3015e9018a",
        "colab": {
          "base_uri": "https://localhost:8080/",
          "height": 54
        }
      },
      "source": [
        "print(x_train[2])"
      ],
      "execution_count": 0,
      "outputs": [
        {
          "output_type": "stream",
          "text": [
            "[1, 53, 12, 284, 15, 14, 272, 26, 53, 959, 32, 818, 15, 14, 272, 26, 39, 684, 70, 11, 14, 12, 3886, 18, 180, 183, 187, 70, 11, 14, 102, 32, 11, 29, 53, 44, 704, 15, 14, 19, 758, 15, 53, 959, 47, 1013, 15, 14, 19, 132, 15, 39, 965, 32, 11, 14, 147, 72, 11, 180, 183, 187, 44, 11, 14, 102, 19, 11, 123, 186, 90, 67, 960, 4, 78, 13, 68, 467, 511, 110, 59, 89, 90, 67, 1390, 55, 2678, 92, 617, 80, 1274, 46, 905, 220, 13, 4, 346, 48, 235, 629, 5, 211, 5, 1118, 7, 2, 81, 5, 187, 11, 15, 9, 1709, 201, 5, 47, 3615, 18, 478, 4514, 5, 1118, 7, 232, 2, 71, 5, 160, 63, 11, 9, 2, 81, 5, 102, 59, 11, 17, 12]\n"
          ],
          "name": "stdout"
        }
      ]
    },
    {
      "cell_type": "markdown",
      "metadata": {
        "id": "uab5Z-uokbco",
        "colab_type": "text"
      },
      "source": [
        "yo numbers lai word ma convert garna"
      ]
    },
    {
      "cell_type": "code",
      "metadata": {
        "id": "LC01RQaukQa5",
        "colab_type": "code",
        "colab": {}
      },
      "source": [
        "word_index = reuters.get_word_index()\n"
      ],
      "execution_count": 0,
      "outputs": []
    },
    {
      "cell_type": "code",
      "metadata": {
        "id": "ZxCkIbF9mR9a",
        "colab_type": "code",
        "outputId": "29e9dadb-76b0-4fac-e215-f7dec21088f4",
        "colab": {
          "base_uri": "https://localhost:8080/",
          "height": 34
        }
      },
      "source": [
        "word_index.keys"
      ],
      "execution_count": 0,
      "outputs": [
        {
          "output_type": "execute_result",
          "data": {
            "text/plain": [
              "<function dict.keys>"
            ]
          },
          "metadata": {
            "tags": []
          },
          "execution_count": 21
        }
      ]
    },
    {
      "cell_type": "markdown",
      "metadata": {
        "id": "KjTtcz5TmdIe",
        "colab_type": "text"
      },
      "source": [
        "yo word_index euta dictionary ho ra yasako key,value lai reverse gareko"
      ]
    },
    {
      "cell_type": "code",
      "metadata": {
        "id": "yczfHZoZlTJs",
        "colab_type": "code",
        "colab": {}
      },
      "source": [
        "index_to_word = {}   # empty dictionary\n",
        "for key,value in word_index.items():\n",
        "  index_to_word[value] = key   # yasari revrese hunxa, empty dict ma assign garepaxi"
      ],
      "execution_count": 0,
      "outputs": []
    },
    {
      "cell_type": "code",
      "metadata": {
        "id": "dHfrhXscl2D0",
        "colab_type": "code",
        "outputId": "185fd108-3bf1-4575-869d-f7473acffcd3",
        "colab": {
          "base_uri": "https://localhost:8080/",
          "height": 34
        }
      },
      "source": [
        "index_to_word[50]"
      ],
      "execution_count": 0,
      "outputs": [
        {
          "output_type": "execute_result",
          "data": {
            "text/plain": [
              "'shr'"
            ]
          },
          "metadata": {
            "tags": []
          },
          "execution_count": 23
        }
      ]
    },
    {
      "cell_type": "markdown",
      "metadata": {
        "id": "4OP5tA-Hm-zY",
        "colab_type": "text"
      },
      "source": [
        "aba sab numbers lai words ma convert garna"
      ]
    },
    {
      "cell_type": "code",
      "metadata": {
        "id": "DhtNtRK4nPna",
        "colab_type": "code",
        "outputId": "b3132416-61ec-4bc2-d9c5-d9e279b25e45",
        "colab": {
          "base_uri": "https://localhost:8080/",
          "height": 34
        }
      },
      "source": [
        "print(index_to_word[x] for x in x_train[1])  # x_train ko 2nd item ko numbers lai word banako with the help of index_to_word dictionary"
      ],
      "execution_count": 0,
      "outputs": [
        {
          "output_type": "stream",
          "text": [
            "<generator object <genexpr> at 0x7f37b8d7a8e0>\n"
          ],
          "name": "stdout"
        }
      ]
    },
    {
      "cell_type": "markdown",
      "metadata": {
        "id": "g6KXuX4eoA_X",
        "colab_type": "text"
      },
      "source": [
        "aba generator lai print garna yasalai list ma convert garne"
      ]
    },
    {
      "cell_type": "code",
      "metadata": {
        "id": "CprZD53AoJDC",
        "colab_type": "code",
        "outputId": "0bc40e84-1c04-47cb-84df-082fa607acd0",
        "colab": {
          "base_uri": "https://localhost:8080/",
          "height": 54
        }
      },
      "source": [
        "print(list(index_to_word[x] for x in x_train[1]))"
      ],
      "execution_count": 0,
      "outputs": [
        {
          "output_type": "stream",
          "text": [
            "['the', 'termination', 'payment', 'airport', 'takes', '6', 'of', 'geological', '3', '6', '602', 'begin', 'up', 'said', 'fully', 'bank', 'expects', 'commodity', 'total', 'is', 'giant', 'a', 'of', 'this', 'takes', 'of', 'series', 'termination', 'payment', 'airport', 'mln', 'a', 'for', 'capital', '1', 'pre', '50', 'american', 'east', 'said', 'in', 'council', 'takes', 'of', 'of', 'france', 'a', 'but', 'u', 'any', '4', 's', '1st', 'losses', 'pct', 'dlrs']\n"
          ],
          "name": "stdout"
        }
      ]
    },
    {
      "cell_type": "markdown",
      "metadata": {
        "id": "XBvKpHHEoahF",
        "colab_type": "text"
      },
      "source": [
        "list ma print vayo, aba yo list items lai join garera print garau"
      ]
    },
    {
      "cell_type": "code",
      "metadata": {
        "id": "ATGg2JaGmGJS",
        "colab_type": "code",
        "outputId": "c24bcc02-d437-4e07-99f0-11702aeeb205",
        "colab": {
          "base_uri": "https://localhost:8080/",
          "height": 54
        }
      },
      "source": [
        "print(' '.join(index_to_word[x] for x in x_train[1]))  "
      ],
      "execution_count": 0,
      "outputs": [
        {
          "output_type": "stream",
          "text": [
            "the termination payment airport takes 6 of geological 3 6 602 begin up said fully bank expects commodity total is giant a of this takes of series termination payment airport mln a for capital 1 pre 50 american east said in council takes of of france a but u any 4 s 1st losses pct dlrs\n"
          ],
          "name": "stdout"
        }
      ]
    },
    {
      "cell_type": "code",
      "metadata": {
        "id": "0Xd3sLo4nfex",
        "colab_type": "code",
        "colab": {}
      },
      "source": [
        ""
      ],
      "execution_count": 0,
      "outputs": []
    },
    {
      "cell_type": "code",
      "metadata": {
        "id": "q9h6Hr6FqVV-",
        "colab_type": "code",
        "colab": {}
      },
      "source": [
        ""
      ],
      "execution_count": 0,
      "outputs": []
    },
    {
      "cell_type": "markdown",
      "metadata": {
        "id": "UlmtyfoaqWBw",
        "colab_type": "text"
      },
      "source": [
        "### tokenize the words"
      ]
    },
    {
      "cell_type": "code",
      "metadata": {
        "id": "jvqCTvZZqctr",
        "colab_type": "code",
        "colab": {}
      },
      "source": [
        "from keras.preprocessing.text import Tokenizer\n",
        "\n",
        "tokenizer = Tokenizer(num_words=10000)\n"
      ],
      "execution_count": 0,
      "outputs": []
    },
    {
      "cell_type": "code",
      "metadata": {
        "id": "p9LcJJxEqsm4",
        "colab_type": "code",
        "colab": {}
      },
      "source": [
        "x_train = tokenizer.sequences_to_matrix(x_train, mode = 'binary')\n",
        "x_test = tokenizer.sequences_to_matrix(x_test, mode = 'binary')\n"
      ],
      "execution_count": 0,
      "outputs": []
    },
    {
      "cell_type": "code",
      "metadata": {
        "id": "SCZRpapgrL5f",
        "colab_type": "code",
        "outputId": "98c3edcf-8e46-4b3e-e9b9-8509107e9f35",
        "colab": {
          "base_uri": "https://localhost:8080/",
          "height": 34
        }
      },
      "source": [
        "num_classes = max(y_train)+1\n",
        "num_classes"
      ],
      "execution_count": 0,
      "outputs": [
        {
          "output_type": "execute_result",
          "data": {
            "text/plain": [
              "46"
            ]
          },
          "metadata": {
            "tags": []
          },
          "execution_count": 38
        }
      ]
    },
    {
      "cell_type": "code",
      "metadata": {
        "id": "Iv2dsS9bsA7V",
        "colab_type": "code",
        "colab": {}
      },
      "source": [
        "y_train = tf.keras.utils.to_categorical(y_train,num_classes)\n",
        "y_test = tf.keras.utils.to_categorical(y_test,num_classes)\n"
      ],
      "execution_count": 0,
      "outputs": []
    },
    {
      "cell_type": "markdown",
      "metadata": {
        "id": "XUAVtDA5s_Sr",
        "colab_type": "text"
      },
      "source": [
        "to_categorical is used for one hot encoding"
      ]
    },
    {
      "cell_type": "code",
      "metadata": {
        "id": "MAk5LG5brbmK",
        "colab_type": "code",
        "outputId": "6a37c082-6541-428f-ad80-b91c4016e215",
        "colab": {
          "base_uri": "https://localhost:8080/",
          "height": 67
        }
      },
      "source": [
        "y_train[1]"
      ],
      "execution_count": 0,
      "outputs": [
        {
          "output_type": "execute_result",
          "data": {
            "text/plain": [
              "array([0., 0., 0., 0., 1., 0., 0., 0., 0., 0., 0., 0., 0., 0., 0., 0., 0.,\n",
              "       0., 0., 0., 0., 0., 0., 0., 0., 0., 0., 0., 0., 0., 0., 0., 0., 0.,\n",
              "       0., 0., 0., 0., 0., 0., 0., 0., 0., 0., 0., 0.], dtype=float32)"
            ]
          },
          "metadata": {
            "tags": []
          },
          "execution_count": 43
        }
      ]
    },
    {
      "cell_type": "code",
      "metadata": {
        "id": "_hVHVCGxtEmJ",
        "colab_type": "code",
        "outputId": "247e534d-569e-454d-a188-04b91e4499dd",
        "colab": {
          "base_uri": "https://localhost:8080/",
          "height": 34
        }
      },
      "source": [
        "y_train.shape"
      ],
      "execution_count": 0,
      "outputs": [
        {
          "output_type": "execute_result",
          "data": {
            "text/plain": [
              "(8982, 46)"
            ]
          },
          "metadata": {
            "tags": []
          },
          "execution_count": 44
        }
      ]
    },
    {
      "cell_type": "code",
      "metadata": {
        "id": "i9gEL2NxtHPE",
        "colab_type": "code",
        "outputId": "021c54c7-c7ae-4ab5-9084-4b03988ed9a8",
        "colab": {
          "base_uri": "https://localhost:8080/",
          "height": 67
        }
      },
      "source": [
        "y_test[3]"
      ],
      "execution_count": 0,
      "outputs": [
        {
          "output_type": "execute_result",
          "data": {
            "text/plain": [
              "array([0., 0., 0., 0., 1., 0., 0., 0., 0., 0., 0., 0., 0., 0., 0., 0., 0.,\n",
              "       0., 0., 0., 0., 0., 0., 0., 0., 0., 0., 0., 0., 0., 0., 0., 0., 0.,\n",
              "       0., 0., 0., 0., 0., 0., 0., 0., 0., 0., 0., 0.], dtype=float32)"
            ]
          },
          "metadata": {
            "tags": []
          },
          "execution_count": 47
        }
      ]
    },
    {
      "cell_type": "code",
      "metadata": {
        "id": "Pnv7SuJitMf3",
        "colab_type": "code",
        "outputId": "7c2bfb28-7166-4b58-f72c-363163967aa8",
        "colab": {
          "base_uri": "https://localhost:8080/",
          "height": 34
        }
      },
      "source": [
        "y_test.shape"
      ],
      "execution_count": 0,
      "outputs": [
        {
          "output_type": "execute_result",
          "data": {
            "text/plain": [
              "(2246, 46)"
            ]
          },
          "metadata": {
            "tags": []
          },
          "execution_count": 48
        }
      ]
    },
    {
      "cell_type": "code",
      "metadata": {
        "id": "GaKTsUYdtWg-",
        "colab_type": "code",
        "outputId": "a2d9e052-f1e9-4ed1-bd77-30cc636ce9d3",
        "colab": {
          "base_uri": "https://localhost:8080/",
          "height": 34
        }
      },
      "source": [
        "x_train.shape"
      ],
      "execution_count": 0,
      "outputs": [
        {
          "output_type": "execute_result",
          "data": {
            "text/plain": [
              "(8982, 10000)"
            ]
          },
          "metadata": {
            "tags": []
          },
          "execution_count": 49
        }
      ]
    },
    {
      "cell_type": "markdown",
      "metadata": {
        "id": "FMr3RH3VtZ0U",
        "colab_type": "text"
      },
      "source": [
        "## building a model"
      ]
    },
    {
      "cell_type": "code",
      "metadata": {
        "id": "6Lnl5kdetgEL",
        "colab_type": "code",
        "colab": {}
      },
      "source": [
        "model = Sequential()\n",
        "\n",
        "model.add(Dense(64,activation= 'relu', input_shape = (10000,)))\n",
        "model.add(Dropout(0.3))\n",
        "\n",
        "model.add(Dense(64,activation='relu'))\n",
        "model.add(Dropout(0.4))\n",
        "\n",
        "model.add(Dense(46,activation='softmax'))"
      ],
      "execution_count": 0,
      "outputs": []
    },
    {
      "cell_type": "code",
      "metadata": {
        "id": "_efYi84wu-Xn",
        "colab_type": "code",
        "colab": {}
      },
      "source": [
        "model.compile(optimizer='adam', loss='categorical_crossentropy', metrics=['accuracy'])"
      ],
      "execution_count": 0,
      "outputs": []
    },
    {
      "cell_type": "code",
      "metadata": {
        "id": "PT6c1J4QvUEQ",
        "colab_type": "code",
        "outputId": "e0c40101-af91-4db5-93b9-2cdff6f0b3d4",
        "colab": {
          "base_uri": "https://localhost:8080/",
          "height": 370
        }
      },
      "source": [
        "history = model.fit(x_train,y_train,batch_size=32,epochs= 10,validation_data=(x_test,y_test))"
      ],
      "execution_count": 0,
      "outputs": [
        {
          "output_type": "stream",
          "text": [
            "Train on 8982 samples, validate on 2246 samples\n",
            "Epoch 1/10\n",
            "8982/8982 [==============================] - 3s 326us/sample - loss: 0.4371 - accuracy: 0.8853 - val_loss: 0.9898 - val_accuracy: 0.8050\n",
            "Epoch 2/10\n",
            "8982/8982 [==============================] - 3s 318us/sample - loss: 0.3714 - accuracy: 0.9014 - val_loss: 1.0591 - val_accuracy: 0.8028\n",
            "Epoch 3/10\n",
            "8982/8982 [==============================] - 3s 309us/sample - loss: 0.3543 - accuracy: 0.9076 - val_loss: 1.0562 - val_accuracy: 0.8072\n",
            "Epoch 4/10\n",
            "8982/8982 [==============================] - 3s 315us/sample - loss: 0.3181 - accuracy: 0.9162 - val_loss: 1.1308 - val_accuracy: 0.8023\n",
            "Epoch 5/10\n",
            "8982/8982 [==============================] - 3s 317us/sample - loss: 0.2915 - accuracy: 0.9201 - val_loss: 1.1418 - val_accuracy: 0.7979\n",
            "Epoch 6/10\n",
            "8982/8982 [==============================] - 3s 319us/sample - loss: 0.2715 - accuracy: 0.9272 - val_loss: 1.1838 - val_accuracy: 0.8023\n",
            "Epoch 7/10\n",
            "8982/8982 [==============================] - 3s 318us/sample - loss: 0.2628 - accuracy: 0.9290 - val_loss: 1.2029 - val_accuracy: 0.8063\n",
            "Epoch 8/10\n",
            "8982/8982 [==============================] - 3s 318us/sample - loss: 0.2518 - accuracy: 0.9290 - val_loss: 1.2088 - val_accuracy: 0.8059\n",
            "Epoch 9/10\n",
            "8982/8982 [==============================] - 3s 303us/sample - loss: 0.2352 - accuracy: 0.9343 - val_loss: 1.2951 - val_accuracy: 0.8032\n",
            "Epoch 10/10\n",
            "8982/8982 [==============================] - 3s 296us/sample - loss: 0.2317 - accuracy: 0.9369 - val_loss: 1.3093 - val_accuracy: 0.8054\n"
          ],
          "name": "stdout"
        }
      ]
    },
    {
      "cell_type": "code",
      "metadata": {
        "id": "LTBsUMEIvrM1",
        "colab_type": "code",
        "outputId": "e8dd0692-243a-42cd-8750-860c72bff043",
        "colab": {
          "base_uri": "https://localhost:8080/",
          "height": 689
        }
      },
      "source": [
        "history.history"
      ],
      "execution_count": 0,
      "outputs": [
        {
          "output_type": "execute_result",
          "data": {
            "text/plain": [
              "{'accuracy': [0.8853262,\n",
              "  0.90135825,\n",
              "  0.90759295,\n",
              "  0.91616565,\n",
              "  0.92006236,\n",
              "  0.9271877,\n",
              "  0.928969,\n",
              "  0.928969,\n",
              "  0.93431306,\n",
              "  0.93687373],\n",
              " 'loss': [0.437122406559515,\n",
              "  0.37135913160483786,\n",
              "  0.35425926489119697,\n",
              "  0.3181263556381664,\n",
              "  0.29153910250075543,\n",
              "  0.271453380690893,\n",
              "  0.2628047675362172,\n",
              "  0.25181203856948114,\n",
              "  0.23515969086160535,\n",
              "  0.23172925180394516],\n",
              " 'val_accuracy': [0.80498666,\n",
              "  0.8027605,\n",
              "  0.8072128,\n",
              "  0.80231524,\n",
              "  0.7978629,\n",
              "  0.80231524,\n",
              "  0.80632234,\n",
              "  0.8058771,\n",
              "  0.8032057,\n",
              "  0.8054319],\n",
              " 'val_loss': [0.9898403308695167,\n",
              "  1.0591336799750664,\n",
              "  1.0562381348435834,\n",
              "  1.1307900273576976,\n",
              "  1.141838259391241,\n",
              "  1.1837807540265133,\n",
              "  1.2028863675235535,\n",
              "  1.2088098708583326,\n",
              "  1.2951245622133847,\n",
              "  1.3093412587500426]}"
            ]
          },
          "metadata": {
            "tags": []
          },
          "execution_count": 55
        }
      ]
    },
    {
      "cell_type": "code",
      "metadata": {
        "id": "1IgU27xhvz_Q",
        "colab_type": "code",
        "colab": {}
      },
      "source": [
        "def plot_curve(history):\n",
        "  epoch_range =range(1,11)\n",
        "  plt.plot(epoch_range, history.history['accuracy'])\n",
        "  plt.plot(epoch_range, history.history['val_accuracy'])\n",
        "  plt.title(\"Model_Accuracy\")\n",
        "  \n",
        "  plt.ylabel(\"accuracy\")\n",
        "  plt.xlabel(\"epoch\")\n",
        "  plt.legend(['train','val'], loc = \"upper left\")\n",
        "  plt.show()\n",
        "\n",
        "  plt.plot(epoch_range, history.history['loss'])\n",
        "  plt.plot(epoch_range, history.history['val_loss'])\n",
        "  plt.title(\"Model_loss\")\n",
        "  \n",
        "  plt.ylabel(\"loss\")\n",
        "  plt.xlabel(\"epoch\")\n",
        "  plt.legend(['train','val'], loc = \"upper right\")\n",
        "  plt.show()"
      ],
      "execution_count": 0,
      "outputs": []
    },
    {
      "cell_type": "code",
      "metadata": {
        "id": "8fjQ4ApQwHJr",
        "colab_type": "code",
        "outputId": "9a38b790-8d87-4247-f59a-46f21766b4cc",
        "colab": {
          "base_uri": "https://localhost:8080/",
          "height": 573
        }
      },
      "source": [
        "plot_curve(history)"
      ],
      "execution_count": 0,
      "outputs": [
        {
          "output_type": "display_data",
          "data": {
            "image/png": "[encoded data removed]",
            "text/plain": [
              "<Figure size 432x288 with 1 Axes>"
            ]
          },
          "metadata": {
            "tags": []
          }
        },
        {
          "output_type": "display_data",
          "data": {
            "image/png": "[encoded data removed]",
            "text/plain": [
              "<Figure size 432x288 with 1 Axes>"
            ]
          },
          "metadata": {
            "tags": []
          }
        }
      ]
    },
    {
      "cell_type": "markdown",
      "metadata": {
        "id": "aGjXLDlCwpWm",
        "colab_type": "text"
      },
      "source": [
        "jot ko result"
      ]
    },
    {
      "cell_type": "code",
      "metadata": {
        "id": "EgyIhfxTwL1I",
        "colab_type": "code",
        "outputId": "9294b6ba-b3ca-43a7-bcc2-fd3f61ca4066",
        "colab": {
          "base_uri": "https://localhost:8080/",
          "height": 67
        }
      },
      "source": [
        "y_test[4]"
      ],
      "execution_count": 0,
      "outputs": [
        {
          "output_type": "execute_result",
          "data": {
            "text/plain": [
              "array([0., 0., 0., 0., 1., 0., 0., 0., 0., 0., 0., 0., 0., 0., 0., 0., 0.,\n",
              "       0., 0., 0., 0., 0., 0., 0., 0., 0., 0., 0., 0., 0., 0., 0., 0., 0.,\n",
              "       0., 0., 0., 0., 0., 0., 0., 0., 0., 0., 0., 0.], dtype=float32)"
            ]
          },
          "metadata": {
            "tags": []
          },
          "execution_count": 58
        }
      ]
    },
    {
      "cell_type": "code",
      "metadata": {
        "id": "XLTWPOnjxCIc",
        "colab_type": "code",
        "colab": {}
      },
      "source": [
        ""
      ],
      "execution_count": 0,
      "outputs": []
    }
  ]
}