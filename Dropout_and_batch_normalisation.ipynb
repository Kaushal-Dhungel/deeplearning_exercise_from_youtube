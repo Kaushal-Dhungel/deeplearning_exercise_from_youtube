{
  "nbformat": 4,
  "nbformat_minor": 0,
  "metadata": {
    "colab": {
      "name": "Dropout and batch normalisation",
      "provenance": [],
      "collapsed_sections": [],
      "toc_visible": true
    },
    "kernelspec": {
      "name": "python3",
      "display_name": "Python 3"
    },
    "accelerator": "TPU"
  },
  "cells": [
    {
      "cell_type": "code",
      "metadata": {
        "id": "wR6BLG1kvTMG",
        "colab_type": "code",
        "outputId": "741132ca-f75b-4cd1-d8cb-6a75109c5af1",
        "colab": {
          "base_uri": "https://localhost:8080/",
          "height": 1000
        }
      },
      "source": [
        "pip install tensorflow-gpu"
      ],
      "execution_count": 0,
      "outputs": [
        {
          "output_type": "stream",
          "text": [
            "Collecting tensorflow-gpu\n",
            "\u001b[?25l  Downloading https://files.pythonhosted.org/packages/0a/93/c7bca39b23aae45cd2e85ad3871c81eccc63b9c5276e926511e2e5b0879d/tensorflow_gpu-2.1.0-cp36-cp36m-manylinux2010_x86_64.whl (421.8MB)\n",
            "\u001b[K     |████████████████████████████████| 421.8MB 38kB/s \n",
            "\u001b[?25hRequirement already satisfied: gast==0.2.2 in /usr/local/lib/python3.6/dist-packages (from tensorflow-gpu) (0.2.2)\n",
            "Requirement already satisfied: wheel>=0.26; python_version >= \"3\" in /usr/local/lib/python3.6/dist-packages (from tensorflow-gpu) (0.33.6)\n",
            "Requirement already satisfied: astor>=0.6.0 in /usr/local/lib/python3.6/dist-packages (from tensorflow-gpu) (0.8.1)\n",
            "Requirement already satisfied: scipy==1.4.1; python_version >= \"3\" in /usr/local/lib/python3.6/dist-packages (from tensorflow-gpu) (1.4.1)\n",
            "Requirement already satisfied: termcolor>=1.1.0 in /usr/local/lib/python3.6/dist-packages (from tensorflow-gpu) (1.1.0)\n",
            "Collecting tensorflow-estimator<2.2.0,>=2.1.0rc0\n",
            "\u001b[?25l  Downloading https://files.pythonhosted.org/packages/18/90/b77c328a1304437ab1310b463e533fa7689f4bfc41549593056d812fab8e/tensorflow_estimator-2.1.0-py2.py3-none-any.whl (448kB)\n",
            "\u001b[K     |████████████████████████████████| 450kB 47.7MB/s \n",
            "\u001b[?25hRequirement already satisfied: absl-py>=0.7.0 in /usr/local/lib/python3.6/dist-packages (from tensorflow-gpu) (0.9.0)\n",
            "Requirement already satisfied: six>=1.12.0 in /usr/local/lib/python3.6/dist-packages (from tensorflow-gpu) (1.12.0)\n",
            "Collecting tensorboard<2.2.0,>=2.1.0\n",
            "\u001b[?25l  Downloading https://files.pythonhosted.org/packages/40/23/53ffe290341cd0855d595b0a2e7485932f473798af173bbe3a584b99bb06/tensorboard-2.1.0-py3-none-any.whl (3.8MB)\n",
            "\u001b[K     |████████████████████████████████| 3.8MB 38.7MB/s \n",
            "\u001b[?25hRequirement already satisfied: opt-einsum>=2.3.2 in /usr/local/lib/python3.6/dist-packages (from tensorflow-gpu) (3.1.0)\n",
            "Requirement already satisfied: wrapt>=1.11.1 in /usr/local/lib/python3.6/dist-packages (from tensorflow-gpu) (1.11.2)\n",
            "Requirement already satisfied: keras-applications>=1.0.8 in /usr/local/lib/python3.6/dist-packages (from tensorflow-gpu) (1.0.8)\n",
            "Requirement already satisfied: google-pasta>=0.1.6 in /usr/local/lib/python3.6/dist-packages (from tensorflow-gpu) (0.1.8)\n",
            "Requirement already satisfied: protobuf>=3.8.0 in /usr/local/lib/python3.6/dist-packages (from tensorflow-gpu) (3.10.0)\n",
            "Requirement already satisfied: numpy<2.0,>=1.16.0 in /usr/local/lib/python3.6/dist-packages (from tensorflow-gpu) (1.17.5)\n",
            "Requirement already satisfied: keras-preprocessing>=1.1.0 in /usr/local/lib/python3.6/dist-packages (from tensorflow-gpu) (1.1.0)\n",
            "Requirement already satisfied: grpcio>=1.8.6 in /usr/local/lib/python3.6/dist-packages (from tensorflow-gpu) (1.15.0)\n",
            "Requirement already satisfied: setuptools>=41.0.0 in /usr/local/lib/python3.6/dist-packages (from tensorboard<2.2.0,>=2.1.0->tensorflow-gpu) (42.0.2)\n",
            "Requirement already satisfied: werkzeug>=0.11.15 in /usr/local/lib/python3.6/dist-packages (from tensorboard<2.2.0,>=2.1.0->tensorflow-gpu) (0.16.0)\n",
            "Requirement already satisfied: requests<3,>=2.21.0 in /usr/local/lib/python3.6/dist-packages (from tensorboard<2.2.0,>=2.1.0->tensorflow-gpu) (2.21.0)\n",
            "Requirement already satisfied: google-auth-oauthlib<0.5,>=0.4.1 in /usr/local/lib/python3.6/dist-packages (from tensorboard<2.2.0,>=2.1.0->tensorflow-gpu) (0.4.1)\n",
            "Requirement already satisfied: markdown>=2.6.8 in /usr/local/lib/python3.6/dist-packages (from tensorboard<2.2.0,>=2.1.0->tensorflow-gpu) (3.1.1)\n",
            "Collecting google-auth<2,>=1.6.3\n",
            "\u001b[?25l  Downloading https://files.pythonhosted.org/packages/36/f8/84b5771faec3eba9fe0c91c8c5896364a8ba08852c0dea5ad2025026dd95/google_auth-1.10.0-py2.py3-none-any.whl (76kB)\n",
            "\u001b[K     |████████████████████████████████| 81kB 9.2MB/s \n",
            "\u001b[?25hRequirement already satisfied: h5py in /usr/local/lib/python3.6/dist-packages (from keras-applications>=1.0.8->tensorflow-gpu) (2.8.0)\n",
            "Requirement already satisfied: idna<2.9,>=2.5 in /usr/local/lib/python3.6/dist-packages (from requests<3,>=2.21.0->tensorboard<2.2.0,>=2.1.0->tensorflow-gpu) (2.8)\n",
            "Requirement already satisfied: certifi>=2017.4.17 in /usr/local/lib/python3.6/dist-packages (from requests<3,>=2.21.0->tensorboard<2.2.0,>=2.1.0->tensorflow-gpu) (2019.11.28)\n",
            "Requirement already satisfied: urllib3<1.25,>=1.21.1 in /usr/local/lib/python3.6/dist-packages (from requests<3,>=2.21.0->tensorboard<2.2.0,>=2.1.0->tensorflow-gpu) (1.24.3)\n",
            "Requirement already satisfied: chardet<3.1.0,>=3.0.2 in /usr/local/lib/python3.6/dist-packages (from requests<3,>=2.21.0->tensorboard<2.2.0,>=2.1.0->tensorflow-gpu) (3.0.4)\n",
            "Requirement already satisfied: requests-oauthlib>=0.7.0 in /usr/local/lib/python3.6/dist-packages (from google-auth-oauthlib<0.5,>=0.4.1->tensorboard<2.2.0,>=2.1.0->tensorflow-gpu) (1.3.0)\n",
            "Requirement already satisfied: rsa<4.1,>=3.1.4 in /usr/local/lib/python3.6/dist-packages (from google-auth<2,>=1.6.3->tensorboard<2.2.0,>=2.1.0->tensorflow-gpu) (4.0)\n",
            "Requirement already satisfied: pyasn1-modules>=0.2.1 in /usr/local/lib/python3.6/dist-packages (from google-auth<2,>=1.6.3->tensorboard<2.2.0,>=2.1.0->tensorflow-gpu) (0.2.7)\n",
            "Requirement already satisfied: cachetools<5.0,>=2.0.0 in /usr/local/lib/python3.6/dist-packages (from google-auth<2,>=1.6.3->tensorboard<2.2.0,>=2.1.0->tensorflow-gpu) (4.0.0)\n",
            "Requirement already satisfied: oauthlib>=3.0.0 in /usr/local/lib/python3.6/dist-packages (from requests-oauthlib>=0.7.0->google-auth-oauthlib<0.5,>=0.4.1->tensorboard<2.2.0,>=2.1.0->tensorflow-gpu) (3.1.0)\n",
            "Requirement already satisfied: pyasn1>=0.1.3 in /usr/local/lib/python3.6/dist-packages (from rsa<4.1,>=3.1.4->google-auth<2,>=1.6.3->tensorboard<2.2.0,>=2.1.0->tensorflow-gpu) (0.4.8)\n",
            "\u001b[31mERROR: tensorflow 1.15.0 has requirement tensorboard<1.16.0,>=1.15.0, but you'll have tensorboard 2.1.0 which is incompatible.\u001b[0m\n",
            "\u001b[31mERROR: tensorflow 1.15.0 has requirement tensorflow-estimator==1.15.1, but you'll have tensorflow-estimator 2.1.0 which is incompatible.\u001b[0m\n",
            "\u001b[31mERROR: tensorboard 2.1.0 has requirement grpcio>=1.24.3, but you'll have grpcio 1.15.0 which is incompatible.\u001b[0m\n",
            "\u001b[31mERROR: google-colab 1.0.0 has requirement google-auth~=1.4.0, but you'll have google-auth 1.10.0 which is incompatible.\u001b[0m\n",
            "Installing collected packages: tensorflow-estimator, google-auth, tensorboard, tensorflow-gpu\n",
            "  Found existing installation: tensorflow-estimator 1.15.1\n",
            "    Uninstalling tensorflow-estimator-1.15.1:\n",
            "      Successfully uninstalled tensorflow-estimator-1.15.1\n",
            "  Found existing installation: google-auth 1.4.2\n",
            "    Uninstalling google-auth-1.4.2:\n",
            "      Successfully uninstalled google-auth-1.4.2\n",
            "  Found existing installation: tensorboard 1.15.0\n",
            "    Uninstalling tensorboard-1.15.0:\n",
            "      Successfully uninstalled tensorboard-1.15.0\n",
            "Successfully installed google-auth-1.10.0 tensorboard-2.1.0 tensorflow-estimator-2.1.0 tensorflow-gpu-2.1.0\n"
          ],
          "name": "stdout"
        },
        {
          "output_type": "display_data",
          "data": {
            "application/vnd.colab-display-data+json": {
              "pip_warning": {
                "packages": [
                  "google"
                ]
              }
            }
          },
          "metadata": {
            "tags": []
          }
        }
      ]
    },
    {
      "cell_type": "code",
      "metadata": {
        "id": "fIMa5nOuv505",
        "colab_type": "code",
        "outputId": "f8cbd552-e4c9-49a9-dcff-7c29e8b9d792",
        "colab": {
          "base_uri": "https://localhost:8080/",
          "height": 34
        }
      },
      "source": [
        "import tensorflow as tf\n",
        "print(tf.__version__)"
      ],
      "execution_count": 0,
      "outputs": [
        {
          "output_type": "stream",
          "text": [
            "2.1.0\n"
          ],
          "name": "stdout"
        }
      ]
    },
    {
      "cell_type": "code",
      "metadata": {
        "id": "xNFxxySqvfz-",
        "colab_type": "code",
        "colab": {}
      },
      "source": [
        "from tensorflow import keras\n",
        "from tensorflow.keras import Sequential\n",
        "from tensorflow.keras.layers import Flatten, Dense, Conv2D, MaxPool2D,ZeroPadding2D,Dropout,BatchNormalization\n",
        "from tensorflow.keras.preprocessing.image import ImageDataGenerator\n",
        "from tensorflow.keras.optimizers import SGD\n",
        "from tensorflow import keras\n",
        "from tensorflow.keras import Sequential"
      ],
      "execution_count": 0,
      "outputs": []
    },
    {
      "cell_type": "code",
      "metadata": {
        "id": "rcm9IoTfwT5p",
        "colab_type": "code",
        "colab": {}
      },
      "source": [
        "import numpy as np\n",
        "import pandas as pd\n",
        "import matplotlib.pyplot as plt\n"
      ],
      "execution_count": 0,
      "outputs": []
    },
    {
      "cell_type": "code",
      "metadata": {
        "id": "_pSjKDZCwnMd",
        "colab_type": "code",
        "outputId": "af464d62-3e5b-4272-912a-cae40f574bfa",
        "colab": {
          "base_uri": "https://localhost:8080/",
          "height": 151
        }
      },
      "source": [
        "!git clone https://github.com/laxmimerit/dog-cat-full-dataset.git"
      ],
      "execution_count": 0,
      "outputs": [
        {
          "output_type": "stream",
          "text": [
            "Cloning into 'dog-cat-full-dataset'...\n",
            "remote: Enumerating objects: 25027, done.\u001b[K\n",
            "remote: Counting objects: 100% (25027/25027), done.\u001b[K\n",
            "remote: Compressing objects: 100% (25022/25022), done.\u001b[K\n",
            "remote: Total 25027 (delta 5), reused 25020 (delta 3), pack-reused 0\u001b[K\n",
            "Receiving objects: 100% (25027/25027), 541.62 MiB | 41.39 MiB/s, done.\n",
            "Resolving deltas: 100% (5/5), done.\n",
            "Checking out files: 100% (25001/25001), done.\n"
          ],
          "name": "stdout"
        }
      ]
    },
    {
      "cell_type": "code",
      "metadata": {
        "id": "fGkifeYURbJG",
        "colab_type": "code",
        "colab": {}
      },
      "source": [
        "from google.colab import drive\n",
        "drive.mount('/content/drive')"
      ],
      "execution_count": 0,
      "outputs": []
    },
    {
      "cell_type": "code",
      "metadata": {
        "id": "G9d5H_1XxWVy",
        "colab_type": "code",
        "colab": {}
      },
      "source": [
        "train_data_dir = '/content/dog-cat-full-dataset/data/train'\n",
        "test_data_dir = '/content/dog-cat-full-dataset/data/test'\n"
      ],
      "execution_count": 0,
      "outputs": []
    },
    {
      "cell_type": "code",
      "metadata": {
        "id": "7MlbQ8hMyZmI",
        "colab_type": "code",
        "colab": {}
      },
      "source": [
        "img_height = 32\n",
        "img_width = 32\n",
        "batch_size = 20"
      ],
      "execution_count": 0,
      "outputs": []
    },
    {
      "cell_type": "code",
      "metadata": {
        "id": "DZVEgA1b06zG",
        "colab_type": "code",
        "colab": {}
      },
      "source": [
        "datagen = ImageDataGenerator(rescale=1./255)"
      ],
      "execution_count": 0,
      "outputs": []
    },
    {
      "cell_type": "code",
      "metadata": {
        "id": "bEvcHR0qy0ew",
        "colab_type": "code",
        "outputId": "addbd908-b02b-419f-ca34-09c068212b8e",
        "colab": {
          "base_uri": "https://localhost:8080/",
          "height": 34
        }
      },
      "source": [
        "train_generator = datagen.flow_from_directory(directory=train_data_dir,\n",
        "                                              target_size = (32,32),\n",
        "                                              classes = ['dogs', 'cats'],\n",
        "                                              class_mode = 'binary',\n",
        "                                              batch_size = 20\n",
        "                                              )"
      ],
      "execution_count": 0,
      "outputs": [
        {
          "output_type": "stream",
          "text": [
            "Found 20000 images belonging to 2 classes.\n"
          ],
          "name": "stdout"
        }
      ]
    },
    {
      "cell_type": "code",
      "metadata": {
        "id": "W16PYQ991ufw",
        "colab_type": "code",
        "outputId": "0747760a-058d-4842-a557-93a1cbced9bb",
        "colab": {
          "base_uri": "https://localhost:8080/",
          "height": 34
        }
      },
      "source": [
        "train_generator.classes"
      ],
      "execution_count": 0,
      "outputs": [
        {
          "output_type": "execute_result",
          "data": {
            "text/plain": [
              "array([0, 0, 0, ..., 1, 1, 1], dtype=int32)"
            ]
          },
          "metadata": {
            "tags": []
          },
          "execution_count": 14
        }
      ]
    },
    {
      "cell_type": "code",
      "metadata": {
        "id": "NGL_nlrJ15sM",
        "colab_type": "code",
        "outputId": "d0e9ca3d-2c92-45e7-f224-8462b6b016f4",
        "colab": {
          "base_uri": "https://localhost:8080/",
          "height": 34
        }
      },
      "source": [
        "validation_generator = datagen.flow_from_directory(directory=test_data_dir,\n",
        "                                              target_size = (32,32),\n",
        "                                              classes = ['dogs', 'cats'],\n",
        "                                              class_mode = 'binary',\n",
        "                                              batch_size = 20\n",
        "                                              )"
      ],
      "execution_count": 0,
      "outputs": [
        {
          "output_type": "stream",
          "text": [
            "Found 5000 images belonging to 2 classes.\n"
          ],
          "name": "stdout"
        }
      ]
    },
    {
      "cell_type": "code",
      "metadata": {
        "id": "dbNIXIWO2nn2",
        "colab_type": "code",
        "colab": {}
      },
      "source": [
        ""
      ],
      "execution_count": 0,
      "outputs": []
    },
    {
      "cell_type": "markdown",
      "metadata": {
        "id": "u3IwHgq-3hDZ",
        "colab_type": "text"
      },
      "source": [
        "## build CNN base model"
      ]
    },
    {
      "cell_type": "code",
      "metadata": {
        "id": "WXZ4hUe73sLj",
        "colab_type": "code",
        "colab": {}
      },
      "source": [
        "model = Sequential()\n",
        "model.add(Conv2D(filters = 64, kernel_size = (3,3),activation='relu',padding = 'same',kernel_initializer='he_uniform',input_shape = (32,32,3)))\n",
        "model.add(MaxPool2D(2,2))\n",
        "model.add(Flatten())\n",
        "model.add(Dense(128,activation='relu',kernel_initializer='he_uniform'))\n",
        "model.add(Dense(1,activation='sigmoid'))\n"
      ],
      "execution_count": 0,
      "outputs": []
    },
    {
      "cell_type": "code",
      "metadata": {
        "id": "YGOeeREI7hy0",
        "colab_type": "code",
        "colab": {}
      },
      "source": [
        "opt = SGD(learning_rate = 0.01,momentum = 0.9 )\n",
        "model.compile(optimizer = opt, loss = 'binary_crossentropy', metrics = ['accuracy'])\n"
      ],
      "execution_count": 0,
      "outputs": []
    },
    {
      "cell_type": "code",
      "metadata": {
        "id": "usfPWeEV8Eih",
        "colab_type": "code",
        "outputId": "0064dd13-3efa-4ef2-b32d-54cd41173c9b",
        "colab": {
          "base_uri": "https://localhost:8080/",
          "height": 373
        }
      },
      "source": [
        "history = model.fit_generator(generator=train_generator, steps_per_epoch=len(train_generator),epochs= 4,validation_data=validation_generator,validation_steps= len(validation_generator),verbose = 1)"
      ],
      "execution_count": 0,
      "outputs": [
        {
          "output_type": "stream",
          "text": [
            "WARNING:tensorflow:From <ipython-input-21-dfd5ffcfb5fb>:1: Model.fit_generator (from tensorflow.python.keras.engine.training) is deprecated and will be removed in a future version.\n",
            "Instructions for updating:\n",
            "Please use Model.fit, which supports generators.\n",
            "WARNING:tensorflow:sample_weight modes were coerced from\n",
            "  ...\n",
            "    to  \n",
            "  ['...']\n",
            "WARNING:tensorflow:sample_weight modes were coerced from\n",
            "  ...\n",
            "    to  \n",
            "  ['...']\n",
            "Train for 1000 steps, validate for 250 steps\n",
            "Epoch 1/4\n",
            "1000/1000 [==============================] - 105s 105ms/step - loss: 0.6975 - accuracy: 0.5081 - val_loss: 0.6932 - val_accuracy: 0.4992\n",
            "Epoch 2/4\n",
            "1000/1000 [==============================] - 103s 103ms/step - loss: 0.6935 - accuracy: 0.4923 - val_loss: 0.6932 - val_accuracy: 0.5004\n",
            "Epoch 3/4\n",
            "1000/1000 [==============================] - 103s 103ms/step - loss: 0.6934 - accuracy: 0.5002 - val_loss: 0.6931 - val_accuracy: 0.5024\n",
            "Epoch 4/4\n",
            "1000/1000 [==============================] - 103s 103ms/step - loss: 0.6934 - accuracy: 0.4963 - val_loss: 0.6932 - val_accuracy: 0.5000\n"
          ],
          "name": "stdout"
        }
      ]
    },
    {
      "cell_type": "code",
      "metadata": {
        "id": "p0vniiK49eI-",
        "colab_type": "code",
        "outputId": "d9da1fb1-86af-4cfe-c5ae-8cd4046500ee",
        "colab": {
          "base_uri": "https://localhost:8080/",
          "height": 185
        }
      },
      "source": [
        "history.history"
      ],
      "execution_count": 0,
      "outputs": [
        {
          "output_type": "execute_result",
          "data": {
            "text/plain": [
              "{'accuracy': [0.50805, 0.4923, 0.50015, 0.49625],\n",
              " 'loss': [0.6975028549432755,\n",
              "  0.6934853581786156,\n",
              "  0.6933797137737274,\n",
              "  0.693422150671482],\n",
              " 'val_accuracy': [0.4992, 0.5004, 0.5024, 0.5],\n",
              " 'val_loss': [0.6931614556312561,\n",
              "  0.6931533291339874,\n",
              "  0.6931315536499023,\n",
              "  0.6931650507450103]}"
            ]
          },
          "metadata": {
            "tags": []
          },
          "execution_count": 22
        }
      ]
    },
    {
      "cell_type": "code",
      "metadata": {
        "id": "dpWMtP8YEPQC",
        "colab_type": "code",
        "colab": {}
      },
      "source": [
        "hist_acc = history.history['accuracy']\n",
        "hist_val_acc = history.history['val_accuracy']\n",
        "hist_loss = history.history['loss']\n",
        "hist_val_loss = history.history['val_loss']\n"
      ],
      "execution_count": 0,
      "outputs": []
    },
    {
      "cell_type": "code",
      "metadata": {
        "id": "gKFBo7nyFshQ",
        "colab_type": "code",
        "colab": {}
      },
      "source": [
        ""
      ],
      "execution_count": 0,
      "outputs": []
    },
    {
      "cell_type": "code",
      "metadata": {
        "id": "gG36So4WAAS6",
        "colab_type": "code",
        "colab": {}
      },
      "source": [
        "def plot_curve(history):\n",
        "  epoch_range =range(1,5)\n",
        "  plt.plot(epoch_range, hist_acc)\n",
        "  plt.plot(epoch_range, hist_val_acc)\n",
        "  plt.title(\"Model_Accuracy\")\n",
        "  \n",
        "  plt.ylabel(\"accuracy\")\n",
        "  plt.xlabel(\"epoch\")\n",
        "  plt.legend(['train','val'], loc = \"upper left\")\n",
        "  plt.show()\n",
        "\n",
        "  plt.plot(epoch_range, hist_loss)\n",
        "  plt.plot(epoch_range, hist_val_loss)\n",
        "  plt.title(\"Model_loss\")\n",
        "  \n",
        "  plt.ylabel(\"loss\")\n",
        "  plt.xlabel(\"epoch\")\n",
        "  plt.legend(['train','val'], loc = \"upper left\")\n",
        "  plt.show()"
      ],
      "execution_count": 0,
      "outputs": []
    },
    {
      "cell_type": "code",
      "metadata": {
        "id": "Yi1si30GA0Ym",
        "colab_type": "code",
        "outputId": "15640fb3-caa0-400a-8241-c412828ede52",
        "colab": {
          "base_uri": "https://localhost:8080/",
          "height": 573
        }
      },
      "source": [
        "plot_curve(history)"
      ],
      "execution_count": 0,
      "outputs": [
        {
          "output_type": "display_data",
          "data": {
            "image/png": "[encoded data removed]",
            "text/plain": [
              "<Figure size 432x288 with 1 Axes>"
            ]
          },
          "metadata": {
            "tags": []
          }
        },
        {
          "output_type": "display_data",
          "data": {
            "image/png": "[encoded data removed]",
            "text/plain": [
              "<Figure size 432x288 with 1 Axes>"
            ]
          },
          "metadata": {
            "tags": []
          }
        }
      ]
    },
    {
      "cell_type": "code",
      "metadata": {
        "id": "aH6eb_DCBio4",
        "colab_type": "code",
        "colab": {}
      },
      "source": [
        ""
      ],
      "execution_count": 0,
      "outputs": []
    },
    {
      "cell_type": "markdown",
      "metadata": {
        "id": "ZRnpQtzEI2cj",
        "colab_type": "text"
      },
      "source": [
        "## implement first 3 blocks of VGG model"
      ]
    },
    {
      "cell_type": "markdown",
      "metadata": {
        "id": "BcZnJkdfLr5m",
        "colab_type": "text"
      },
      "source": [
        "## dropout and batch normalisation"
      ]
    },
    {
      "cell_type": "code",
      "metadata": {
        "id": "AkWUrkbpJBQk",
        "colab_type": "code",
        "colab": {}
      },
      "source": [
        "model = Sequential()\n",
        "model.add(Conv2D(filters = 64, kernel_size = (3,3),activation='relu',padding = 'same',kernel_initializer='he_uniform',input_shape = (32,32,3)))\n",
        "model.add(BatchNormalization())\n",
        "model.add(MaxPool2D(2,2))\n",
        "model.add(Dropout(0.2))\n",
        "\n",
        "# second layer\n",
        "model = Sequential()\n",
        "model.add(Conv2D(filters = 128, kernel_size = (3,3),activation='relu',padding = 'same',kernel_initializer='he_uniform'))\n",
        "model.add(BatchNormalization())\n",
        "model.add(MaxPool2D(2,2))\n",
        "model.add(Dropout(0.3))\n",
        "\n",
        "# third layer\n",
        "model = Sequential()\n",
        "model.add(Conv2D(filters = 256, kernel_size = (3,3),activation='relu',padding = 'same',kernel_initializer='he_uniform'))\n",
        "model.add(BatchNormalization())\n",
        "model.add(MaxPool2D(2,2))\n",
        "model.add(Dropout(0.5))\n",
        "\n",
        "\n",
        "model.add(Flatten())\n",
        "model.add(Dense(128,activation='relu',kernel_initializer='he_uniform'))\n",
        "model.add(BatchNormalization())\n",
        "model.add(Dropout(0.5))\n",
        "model.add(Dense(1,activation='sigmoid'))"
      ],
      "execution_count": 0,
      "outputs": []
    },
    {
      "cell_type": "code",
      "metadata": {
        "id": "125QnYAsJNUc",
        "colab_type": "code",
        "colab": {}
      },
      "source": [
        "opt = SGD(learning_rate = 0.01,momentum = 0.9 )\n",
        "model.compile(optimizer = opt, loss = 'binary_crossentropy', metrics = ['accuracy'])\n"
      ],
      "execution_count": 0,
      "outputs": []
    },
    {
      "cell_type": "code",
      "metadata": {
        "id": "7vxIv5a7JNli",
        "colab_type": "code",
        "outputId": "060bf589-bc2b-4010-aa5b-772b2a85058d",
        "colab": {
          "base_uri": "https://localhost:8080/",
          "height": 269
        }
      },
      "source": [
        "history = model.fit_generator(generator=train_generator, steps_per_epoch=len(train_generator),epochs= 5,validation_data=validation_generator,validation_steps= len(validation_generator),verbose = 1)"
      ],
      "execution_count": 0,
      "outputs": [
        {
          "output_type": "stream",
          "text": [
            "WARNING:tensorflow:sample_weight modes were coerced from\n",
            "  ...\n",
            "    to  \n",
            "  ['...']\n",
            "Train for 1000 steps, validate for 250 steps\n",
            "Epoch 1/5\n",
            "1000/1000 [==============================] - 248s 248ms/step - loss: 0.6747 - accuracy: 0.6349 - val_loss: 0.5521 - val_accuracy: 0.7210\n",
            "Epoch 2/5\n",
            "1000/1000 [==============================] - 245s 245ms/step - loss: 0.5944 - accuracy: 0.6937 - val_loss: 0.5653 - val_accuracy: 0.7148\n",
            "Epoch 3/5\n",
            "1000/1000 [==============================] - 245s 245ms/step - loss: 0.5525 - accuracy: 0.7281 - val_loss: 0.5374 - val_accuracy: 0.7336\n",
            "Epoch 4/5\n",
            "1000/1000 [==============================] - 242s 242ms/step - loss: 0.5224 - accuracy: 0.7476 - val_loss: 0.5415 - val_accuracy: 0.7398\n",
            "Epoch 5/5\n",
            "1000/1000 [==============================] - 240s 240ms/step - loss: 0.4996 - accuracy: 0.7577 - val_loss: 0.5408 - val_accuracy: 0.7452\n"
          ],
          "name": "stdout"
        }
      ]
    },
    {
      "cell_type": "code",
      "metadata": {
        "id": "3zQt-G0qRJcs",
        "colab_type": "code",
        "outputId": "78641990-b1e7-4577-90e2-71b130b9f9fd",
        "colab": {
          "base_uri": "https://localhost:8080/",
          "height": 218
        }
      },
      "source": [
        "history.history"
      ],
      "execution_count": 0,
      "outputs": [
        {
          "output_type": "execute_result",
          "data": {
            "text/plain": [
              "{'accuracy': [0.63495, 0.6937, 0.7281, 0.7476, 0.7577],\n",
              " 'loss': [0.6747324089705944,\n",
              "  0.5944209158271551,\n",
              "  0.5525112513005733,\n",
              "  0.5223732969164848,\n",
              "  0.4996485375761986],\n",
              " 'val_accuracy': [0.721, 0.7148, 0.7336, 0.7398, 0.7452],\n",
              " 'val_loss': [0.552090721487999,\n",
              "  0.5652598786354065,\n",
              "  0.5373806848526,\n",
              "  0.5415031589269638,\n",
              "  0.5408283964395523]}"
            ]
          },
          "metadata": {
            "tags": []
          },
          "execution_count": 89
        }
      ]
    },
    {
      "cell_type": "code",
      "metadata": {
        "id": "mukWT1hDKExH",
        "colab_type": "code",
        "colab": {}
      },
      "source": [
        "def plot_curve(history):\n",
        "  epoch_range =range(1,6)\n",
        "  plt.plot(epoch_range, history.history['accuracy'])\n",
        "  plt.plot(epoch_range, history.history['val_accuracy'])\n",
        "  plt.title(\"Model_Accuracy\")\n",
        "  \n",
        "  plt.ylabel(\"accuracy\")\n",
        "  plt.xlabel(\"epoch\")\n",
        "  plt.legend(['train','val'], loc = \"upper left\")\n",
        "  plt.show()\n",
        "\n",
        "  plt.plot(epoch_range, history.history['loss'])\n",
        "  plt.plot(epoch_range, history.history['val_loss'])\n",
        "  plt.title(\"Model_loss\")\n",
        "  \n",
        "  plt.ylabel(\"loss\")\n",
        "  plt.xlabel(\"epoch\")\n",
        "  plt.legend(['train','val'], loc = \"upper left\")\n",
        "  plt.show()"
      ],
      "execution_count": 0,
      "outputs": []
    },
    {
      "cell_type": "code",
      "metadata": {
        "id": "6zAV8jvyQz1H",
        "colab_type": "code",
        "outputId": "ca8d0031-e129-4146-b50b-8fdcb6150545",
        "colab": {
          "base_uri": "https://localhost:8080/",
          "height": 573
        }
      },
      "source": [
        "plot_curve(history)"
      ],
      "execution_count": 0,
      "outputs": [
        {
          "output_type": "display_data",
          "data": {
            "image/png": "[encoded data removed]",
            "text/plain": [
              "<Figure size 432x288 with 1 Axes>"
            ]
          },
          "metadata": {
            "tags": []
          }
        },
        {
          "output_type": "display_data",
          "data": {
            "image/png": "[encoded data removed]",
            "text/plain": [
              "<Figure size 432x288 with 1 Axes>"
            ]
          },
          "metadata": {
            "tags": []
          }
        }
      ]
    },
    {
      "cell_type": "code",
      "metadata": {
        "id": "aD2Bwd3xQ5gB",
        "colab_type": "code",
        "colab": {}
      },
      "source": [
        ""
      ],
      "execution_count": 0,
      "outputs": []
    }
  ]
}